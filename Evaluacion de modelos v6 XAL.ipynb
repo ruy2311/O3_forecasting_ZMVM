{
 "cells": [
  {
   "cell_type": "code",
   "execution_count": 1,
   "id": "98bc8f2c",
   "metadata": {},
   "outputs": [],
   "source": [
    "import matplotlib.pyplot as plt\n",
    "import pandas as pd\n",
    "import numpy as np\n",
    "#import seaborn as sn\n",
    "#from ZMVM import indexByDate\n",
    "#from dmetrics import byDay,describe,plotHist\n",
    "from MET import *\n",
    "#from sklearn.tree import DecisionTreeRegressor \n",
    "#from sklearn.ensemble import RandomForestRegressor \n",
    "from sklearn.model_selection import train_test_split\n",
    "from sklearn.preprocessing import MinMaxScaler"
   ]
  },
  {
   "cell_type": "code",
   "execution_count": 2,
   "id": "7891bf61",
   "metadata": {},
   "outputs": [],
   "source": [
    "estacion='XAL'"
   ]
  },
  {
   "cell_type": "code",
   "execution_count": 3,
   "id": "60e76b94",
   "metadata": {},
   "outputs": [
    {
     "data": {
      "image/png": "[encoded data removed]",
      "text/plain": [
       "<Figure size 720x360 with 1 Axes>"
      ]
     },
     "metadata": {
      "needs_background": "dark"
     },
     "output_type": "display_data"
    }
   ],
   "source": [
    "df = indexByDate(pd.read_pickle(f\"DF/{estacion}_2015.pkl\"))\n",
    "fig,ax = plt.subplots(frameon=False)\n",
    "fig.set_size_inches((10,5))\n",
    "for spine in ['top', 'right', 'left']:\n",
    "    ax.spines[spine].set_visible(False)\n",
    "ax.spines['bottom'].set_color('whitesmoke')\n",
    "ax.tick_params(color='white', labelcolor='gray')\n",
    "plt.xlabel('Hora del Dia')\n",
    "plt.ylabel('concentración (ppb)')\n",
    "df_o3 = byDay(df,'o3').dropna()\n",
    "ax = df_o3.plot.box(ax=ax)\n",
    "#fig.savefig('XAL_O3.png',dpi=300)\n",
    "#Image.open('XAL_O3.png').convert('L').save('XAL_O3_bw.png')"
   ]
  },
  {
   "cell_type": "code",
   "execution_count": 4,
   "id": "dfd39c6f",
   "metadata": {},
   "outputs": [],
   "source": [
    "Xo_train = pd.read_pickle(f'DF/{estacion}/pkls/Xo_train.pkl')\n",
    "yo_train = pd.read_pickle(f'DF/{estacion}/pkls/yo_train.pkl')\n",
    "Xo_test  = pd.read_pickle(f'DF/{estacion}/pkls/Xo_test.pkl')\n",
    "yo_test  = pd.read_pickle(f'DF/{estacion}/pkls/yo_test.pkl')"
   ]
  },
  {
   "cell_type": "markdown",
   "id": "d0a64e01",
   "metadata": {},
   "source": [
    "# Random forest"
   ]
  },
  {
   "cell_type": "code",
   "execution_count": 5,
   "id": "f473bafd",
   "metadata": {},
   "outputs": [
    {
     "name": "stdout",
     "output_type": "stream",
     "text": [
      ">random_forest_Originales\n",
      "depth: 1 R2: 0.556\t MSE:154.220\tRMSE:12.419\tMAE:9.800\tMAPE:1.575\n",
      "depth: 2 R2: 0.669\t MSE:114.929\tRMSE:10.720\tMAE:8.066\tMAPE:1.083\n",
      "depth: 3 R2: 0.720\t MSE:97.260\tRMSE:9.862\tMAE:7.362\tMAPE:0.912\n",
      "depth: 4 R2: 0.748\t MSE:87.480\tRMSE:9.353\tMAE:6.935\tMAPE:0.836\n",
      "depth: 5 R2: 0.760\t MSE:83.257\tRMSE:9.125\tMAE:6.682\tMAPE:0.771\n",
      "depth: 6 R2: 0.769\t MSE:80.377\tRMSE:8.965\tMAE:6.542\tMAPE:0.737\n",
      "depth: 7 R2: 0.773\t MSE:78.852\tRMSE:8.880\tMAE:6.447\tMAPE:0.717\n",
      "depth: 8 R2: 0.776\t MSE:77.960\tRMSE:8.829\tMAE:6.379\tMAPE:0.704\n",
      "depth: 9 R2: 0.778\t MSE:76.980\tRMSE:8.774\tMAE:6.314\tMAPE:0.696\n",
      "depth: 10 R2: 0.781\t MSE:76.049\tRMSE:8.721\tMAE:6.264\tMAPE:0.692\n",
      "depth: 11 R2: 0.782\t MSE:75.642\tRMSE:8.697\tMAE:6.249\tMAPE:0.689\n",
      "depth: 12 R2: 0.784\t MSE:75.133\tRMSE:8.668\tMAE:6.220\tMAPE:0.686\n",
      "depth: 13 R2: 0.784\t MSE:75.048\tRMSE:8.663\tMAE:6.191\tMAPE:0.680\n",
      "depth: 14 R2: 0.785\t MSE:74.672\tRMSE:8.641\tMAE:6.180\tMAPE:0.685\n",
      "depth: 15 R2: 0.784\t MSE:74.896\tRMSE:8.654\tMAE:6.174\tMAPE:0.678\n",
      "depth: 16 R2: 0.785\t MSE:74.708\tRMSE:8.643\tMAE:6.171\tMAPE:0.678\n",
      "depth: 17 R2: 0.785\t MSE:74.551\tRMSE:8.634\tMAE:6.171\tMAPE:0.678\n",
      "depth: 18 R2: 0.785\t MSE:74.602\tRMSE:8.637\tMAE:6.165\tMAPE:0.676\n",
      "depth: 19 R2: 0.787\t MSE:74.121\tRMSE:8.609\tMAE:6.146\tMAPE:0.677\n",
      "depth: 20 R2: 0.786\t MSE:74.215\tRMSE:8.615\tMAE:6.157\tMAPE:0.676\n"
     ]
    }
   ],
   "source": [
    "random_forest(Xo_train,yo_train,Xo_test,yo_test,save=True,mode='w',filename=f'evaluacion_{estacion}.txt')"
   ]
  },
  {
   "cell_type": "code",
   "execution_count": 6,
   "id": "9db30401",
   "metadata": {},
   "outputs": [
    {
     "name": "stdout",
     "output_type": "stream",
     "text": [
      ">random_forest_MinMax\n",
      "depth: 1 R2: 0.556\t MSE:154.220\tRMSE:12.419\tMAE:9.800\tMAPE:1.575\n",
      "depth: 2 R2: 0.669\t MSE:114.929\tRMSE:10.720\tMAE:8.066\tMAPE:1.083\n",
      "depth: 3 R2: 0.720\t MSE:97.260\tRMSE:9.862\tMAE:7.362\tMAPE:0.912\n",
      "depth: 4 R2: 0.748\t MSE:87.493\tRMSE:9.354\tMAE:6.935\tMAPE:0.836\n",
      "depth: 5 R2: 0.760\t MSE:83.237\tRMSE:9.123\tMAE:6.681\tMAPE:0.771\n",
      "depth: 6 R2: 0.769\t MSE:80.406\tRMSE:8.967\tMAE:6.543\tMAPE:0.737\n",
      "depth: 7 R2: 0.773\t MSE:78.879\tRMSE:8.881\tMAE:6.446\tMAPE:0.717\n",
      "depth: 8 R2: 0.775\t MSE:78.005\tRMSE:8.832\tMAE:6.376\tMAPE:0.703\n",
      "depth: 9 R2: 0.779\t MSE:76.903\tRMSE:8.769\tMAE:6.305\tMAPE:0.696\n",
      "depth: 10 R2: 0.781\t MSE:75.934\tRMSE:8.714\tMAE:6.259\tMAPE:0.691\n",
      "depth: 11 R2: 0.783\t MSE:75.410\tRMSE:8.684\tMAE:6.238\tMAPE:0.689\n",
      "depth: 12 R2: 0.784\t MSE:74.945\tRMSE:8.657\tMAE:6.213\tMAPE:0.685\n",
      "depth: 13 R2: 0.784\t MSE:74.890\tRMSE:8.654\tMAE:6.191\tMAPE:0.681\n",
      "depth: 14 R2: 0.785\t MSE:74.718\tRMSE:8.644\tMAE:6.191\tMAPE:0.684\n",
      "depth: 15 R2: 0.785\t MSE:74.559\tRMSE:8.635\tMAE:6.170\tMAPE:0.681\n",
      "depth: 16 R2: 0.786\t MSE:74.329\tRMSE:8.621\tMAE:6.171\tMAPE:0.681\n",
      "depth: 17 R2: 0.786\t MSE:74.437\tRMSE:8.628\tMAE:6.171\tMAPE:0.679\n",
      "depth: 18 R2: 0.785\t MSE:74.833\tRMSE:8.651\tMAE:6.181\tMAPE:0.681\n",
      "depth: 19 R2: 0.786\t MSE:74.510\tRMSE:8.632\tMAE:6.167\tMAPE:0.680\n",
      "depth: 20 R2: 0.785\t MSE:74.545\tRMSE:8.634\tMAE:6.162\tMAPE:0.677\n"
     ]
    }
   ],
   "source": [
    "random_forest(Xo_train,yo_train,Xo_test,yo_test,scaling='MinMax',save=True,filename=f'evaluacion_{estacion}.txt')"
   ]
  },
  {
   "cell_type": "code",
   "execution_count": 7,
   "id": "7d828b5b",
   "metadata": {},
   "outputs": [
    {
     "name": "stdout",
     "output_type": "stream",
     "text": [
      ">random_forest_Zscore\n",
      "depth: 1 R2: 0.556\t MSE:154.220\tRMSE:12.419\tMAE:9.800\tMAPE:1.575\n",
      "depth: 2 R2: 0.669\t MSE:114.929\tRMSE:10.720\tMAE:8.066\tMAPE:1.083\n",
      "depth: 3 R2: 0.720\t MSE:97.260\tRMSE:9.862\tMAE:7.362\tMAPE:0.912\n",
      "depth: 4 R2: 0.748\t MSE:87.492\tRMSE:9.354\tMAE:6.935\tMAPE:0.836\n",
      "depth: 5 R2: 0.760\t MSE:83.271\tRMSE:9.125\tMAE:6.682\tMAPE:0.771\n",
      "depth: 6 R2: 0.769\t MSE:80.414\tRMSE:8.967\tMAE:6.542\tMAPE:0.737\n",
      "depth: 7 R2: 0.773\t MSE:78.883\tRMSE:8.882\tMAE:6.445\tMAPE:0.717\n",
      "depth: 8 R2: 0.776\t MSE:77.991\tRMSE:8.831\tMAE:6.376\tMAPE:0.703\n",
      "depth: 9 R2: 0.778\t MSE:77.049\tRMSE:8.778\tMAE:6.308\tMAPE:0.695\n",
      "depth: 10 R2: 0.782\t MSE:75.908\tRMSE:8.713\tMAE:6.259\tMAPE:0.691\n",
      "depth: 11 R2: 0.783\t MSE:75.469\tRMSE:8.687\tMAE:6.237\tMAPE:0.686\n",
      "depth: 12 R2: 0.784\t MSE:75.005\tRMSE:8.661\tMAE:6.207\tMAPE:0.683\n",
      "depth: 13 R2: 0.785\t MSE:74.625\tRMSE:8.639\tMAE:6.178\tMAPE:0.680\n",
      "depth: 14 R2: 0.784\t MSE:75.044\tRMSE:8.663\tMAE:6.188\tMAPE:0.682\n",
      "depth: 15 R2: 0.785\t MSE:74.602\tRMSE:8.637\tMAE:6.166\tMAPE:0.678\n",
      "depth: 16 R2: 0.785\t MSE:74.774\tRMSE:8.647\tMAE:6.177\tMAPE:0.680\n",
      "depth: 17 R2: 0.785\t MSE:74.559\tRMSE:8.635\tMAE:6.172\tMAPE:0.676\n",
      "depth: 18 R2: 0.785\t MSE:74.642\tRMSE:8.640\tMAE:6.174\tMAPE:0.678\n",
      "depth: 19 R2: 0.785\t MSE:74.565\tRMSE:8.635\tMAE:6.172\tMAPE:0.677\n",
      "depth: 20 R2: 0.786\t MSE:74.184\tRMSE:8.613\tMAE:6.160\tMAPE:0.677\n"
     ]
    }
   ],
   "source": [
    "random_forest(Xo_train,yo_train,Xo_test,yo_test,scaling='Zscore',save=True,filename=f'evaluacion_{estacion}.txt')"
   ]
  },
  {
   "cell_type": "markdown",
   "id": "11dda641",
   "metadata": {},
   "source": [
    "# KNN"
   ]
  },
  {
   "cell_type": "code",
   "execution_count": 8,
   "id": "35fd32d2",
   "metadata": {},
   "outputs": [
    {
     "name": "stdout",
     "output_type": "stream",
     "text": [
      ">k_nearest_neighbor_Originales\n",
      "n_neighbors: 1 R2: 0.502\t MSE:173.051\tRMSE:13.155\tMAE:9.199\tMAPE:0.961\n",
      "n_neighbors: 2 R2: 0.625\t MSE:130.232\tRMSE:11.412\tMAE:8.053\tMAPE:0.936\n",
      "n_neighbors: 3 R2: 0.655\t MSE:119.798\tRMSE:10.945\tMAE:7.855\tMAPE:0.936\n",
      "n_neighbors: 4 R2: 0.674\t MSE:113.286\tRMSE:10.644\tMAE:7.647\tMAPE:0.937\n",
      "n_neighbors: 5 R2: 0.690\t MSE:107.784\tRMSE:10.382\tMAE:7.462\tMAPE:0.923\n",
      "n_neighbors: 6 R2: 0.700\t MSE:104.371\tRMSE:10.216\tMAE:7.405\tMAPE:0.920\n",
      "n_neighbors: 7 R2: 0.699\t MSE:104.457\tRMSE:10.220\tMAE:7.425\tMAPE:0.945\n",
      "n_neighbors: 8 R2: 0.700\t MSE:104.229\tRMSE:10.209\tMAE:7.461\tMAPE:0.957\n",
      "n_neighbors: 9 R2: 0.699\t MSE:104.618\tRMSE:10.228\tMAE:7.493\tMAPE:0.969\n",
      "n_neighbors: 10 R2: 0.702\t MSE:103.593\tRMSE:10.178\tMAE:7.459\tMAPE:0.969\n",
      "n_neighbors: 11 R2: 0.703\t MSE:103.065\tRMSE:10.152\tMAE:7.393\tMAPE:0.972\n",
      "n_neighbors: 12 R2: 0.702\t MSE:103.656\tRMSE:10.181\tMAE:7.400\tMAPE:0.984\n",
      "n_neighbors: 13 R2: 0.702\t MSE:103.417\tRMSE:10.169\tMAE:7.426\tMAPE:0.992\n",
      "n_neighbors: 14 R2: 0.703\t MSE:103.150\tRMSE:10.156\tMAE:7.423\tMAPE:0.990\n",
      "n_neighbors: 15 R2: 0.706\t MSE:102.194\tRMSE:10.109\tMAE:7.395\tMAPE:0.984\n",
      "n_neighbors: 16 R2: 0.706\t MSE:102.283\tRMSE:10.114\tMAE:7.412\tMAPE:0.987\n",
      "n_neighbors: 17 R2: 0.704\t MSE:102.684\tRMSE:10.133\tMAE:7.439\tMAPE:0.991\n",
      "n_neighbors: 18 R2: 0.705\t MSE:102.467\tRMSE:10.123\tMAE:7.422\tMAPE:0.997\n",
      "n_neighbors: 19 R2: 0.706\t MSE:102.090\tRMSE:10.104\tMAE:7.428\tMAPE:0.998\n",
      "n_neighbors: 20 R2: 0.706\t MSE:102.123\tRMSE:10.106\tMAE:7.426\tMAPE:1.001\n"
     ]
    }
   ],
   "source": [
    "k_nearest_neighbor(Xo_train,yo_train,Xo_test,yo_test,save=True,filename=f'evaluacion_{estacion}.txt')"
   ]
  },
  {
   "cell_type": "code",
   "execution_count": 9,
   "id": "f4751100",
   "metadata": {},
   "outputs": [
    {
     "name": "stdout",
     "output_type": "stream",
     "text": [
      ">k_nearest_neighbor_MinMax\n",
      "n_neighbors: 1 R2: 0.710\t MSE:100.892\tRMSE:10.044\tMAE:6.760\tMAPE:0.637\n",
      "n_neighbors: 2 R2: 0.767\t MSE:81.079\tRMSE:9.004\tMAE:6.211\tMAPE:0.635\n",
      "n_neighbors: 3 R2: 0.774\t MSE:78.456\tRMSE:8.858\tMAE:6.208\tMAPE:0.659\n",
      "n_neighbors: 4 R2: 0.772\t MSE:79.354\tRMSE:8.908\tMAE:6.267\tMAPE:0.699\n",
      "n_neighbors: 5 R2: 0.768\t MSE:80.512\tRMSE:8.973\tMAE:6.401\tMAPE:0.715\n",
      "n_neighbors: 6 R2: 0.765\t MSE:81.784\tRMSE:9.043\tMAE:6.430\tMAPE:0.723\n",
      "n_neighbors: 7 R2: 0.766\t MSE:81.367\tRMSE:9.020\tMAE:6.407\tMAPE:0.723\n",
      "n_neighbors: 8 R2: 0.761\t MSE:83.064\tRMSE:9.114\tMAE:6.471\tMAPE:0.726\n",
      "n_neighbors: 9 R2: 0.760\t MSE:83.373\tRMSE:9.131\tMAE:6.515\tMAPE:0.734\n",
      "n_neighbors: 10 R2: 0.759\t MSE:83.743\tRMSE:9.151\tMAE:6.514\tMAPE:0.744\n",
      "n_neighbors: 11 R2: 0.755\t MSE:84.962\tRMSE:9.218\tMAE:6.566\tMAPE:0.745\n",
      "n_neighbors: 12 R2: 0.755\t MSE:85.012\tRMSE:9.220\tMAE:6.577\tMAPE:0.749\n",
      "n_neighbors: 13 R2: 0.756\t MSE:84.724\tRMSE:9.205\tMAE:6.573\tMAPE:0.752\n",
      "n_neighbors: 14 R2: 0.755\t MSE:85.183\tRMSE:9.229\tMAE:6.586\tMAPE:0.752\n",
      "n_neighbors: 15 R2: 0.754\t MSE:85.357\tRMSE:9.239\tMAE:6.610\tMAPE:0.755\n",
      "n_neighbors: 16 R2: 0.755\t MSE:85.284\tRMSE:9.235\tMAE:6.591\tMAPE:0.757\n",
      "n_neighbors: 17 R2: 0.751\t MSE:86.485\tRMSE:9.300\tMAE:6.625\tMAPE:0.763\n",
      "n_neighbors: 18 R2: 0.752\t MSE:86.329\tRMSE:9.291\tMAE:6.631\tMAPE:0.765\n",
      "n_neighbors: 19 R2: 0.750\t MSE:87.002\tRMSE:9.327\tMAE:6.661\tMAPE:0.770\n",
      "n_neighbors: 20 R2: 0.751\t MSE:86.625\tRMSE:9.307\tMAE:6.652\tMAPE:0.773\n"
     ]
    }
   ],
   "source": [
    "k_nearest_neighbor(Xo_train,yo_train,Xo_test,yo_test,scaling='MinMax',save=True,filename=f'evaluacion_{estacion}.txt')"
   ]
  },
  {
   "cell_type": "code",
   "execution_count": 10,
   "id": "05789436",
   "metadata": {},
   "outputs": [
    {
     "name": "stdout",
     "output_type": "stream",
     "text": [
      ">k_nearest_neighbor_Zscore\n",
      "n_neighbors: 1 R2: 0.699\t MSE:104.514\tRMSE:10.223\tMAE:6.844\tMAPE:0.629\n",
      "n_neighbors: 2 R2: 0.748\t MSE:87.717\tRMSE:9.366\tMAE:6.501\tMAPE:0.633\n",
      "n_neighbors: 3 R2: 0.753\t MSE:85.887\tRMSE:9.268\tMAE:6.477\tMAPE:0.651\n",
      "n_neighbors: 4 R2: 0.761\t MSE:82.924\tRMSE:9.106\tMAE:6.430\tMAPE:0.681\n",
      "n_neighbors: 5 R2: 0.757\t MSE:84.476\tRMSE:9.191\tMAE:6.509\tMAPE:0.706\n",
      "n_neighbors: 6 R2: 0.760\t MSE:83.399\tRMSE:9.132\tMAE:6.525\tMAPE:0.714\n",
      "n_neighbors: 7 R2: 0.757\t MSE:84.481\tRMSE:9.191\tMAE:6.574\tMAPE:0.730\n",
      "n_neighbors: 8 R2: 0.758\t MSE:84.246\tRMSE:9.179\tMAE:6.610\tMAPE:0.750\n",
      "n_neighbors: 9 R2: 0.756\t MSE:84.858\tRMSE:9.212\tMAE:6.653\tMAPE:0.758\n",
      "n_neighbors: 10 R2: 0.752\t MSE:86.283\tRMSE:9.289\tMAE:6.702\tMAPE:0.759\n",
      "n_neighbors: 11 R2: 0.749\t MSE:87.191\tRMSE:9.338\tMAE:6.743\tMAPE:0.769\n",
      "n_neighbors: 12 R2: 0.748\t MSE:87.428\tRMSE:9.350\tMAE:6.776\tMAPE:0.773\n",
      "n_neighbors: 13 R2: 0.749\t MSE:87.084\tRMSE:9.332\tMAE:6.747\tMAPE:0.777\n",
      "n_neighbors: 14 R2: 0.748\t MSE:87.438\tRMSE:9.351\tMAE:6.744\tMAPE:0.778\n",
      "n_neighbors: 15 R2: 0.749\t MSE:87.337\tRMSE:9.345\tMAE:6.749\tMAPE:0.783\n",
      "n_neighbors: 16 R2: 0.748\t MSE:87.587\tRMSE:9.359\tMAE:6.767\tMAPE:0.786\n",
      "n_neighbors: 17 R2: 0.745\t MSE:88.635\tRMSE:9.415\tMAE:6.815\tMAPE:0.796\n",
      "n_neighbors: 18 R2: 0.744\t MSE:88.796\tRMSE:9.423\tMAE:6.847\tMAPE:0.804\n",
      "n_neighbors: 19 R2: 0.744\t MSE:88.798\tRMSE:9.423\tMAE:6.841\tMAPE:0.807\n",
      "n_neighbors: 20 R2: 0.745\t MSE:88.742\tRMSE:9.420\tMAE:6.841\tMAPE:0.810\n"
     ]
    }
   ],
   "source": [
    "k_nearest_neighbor(Xo_train,yo_train,Xo_test,yo_test,scaling='Zscore',save=True,filename=f'evaluacion_{estacion}.txt')"
   ]
  },
  {
   "cell_type": "markdown",
   "id": "bf554e4f",
   "metadata": {},
   "source": [
    "# Support Vector Machine"
   ]
  },
  {
   "cell_type": "code",
   "execution_count": 11,
   "id": "9e0ffbfe",
   "metadata": {},
   "outputs": [
    {
     "name": "stdout",
     "output_type": "stream",
     "text": [
      ">support_vector_machine_Originales\n",
      "kernel: linear R2: 0.703\t MSE:103.182\tRMSE:10.158\tMAE:7.211\tMAPE:0.781\n",
      "kernel: poly   R2: 0.432\t MSE:197.409\tRMSE:14.050\tMAE:10.198\tMAPE:1.374\n",
      "kernel: rbf    R2: 0.658\t MSE:118.728\tRMSE:10.896\tMAE:7.786\tMAPE:0.921\n"
     ]
    }
   ],
   "source": [
    "support_vector_machine(Xo_train,yo_train,Xo_test,yo_test,save=True,filename=f'evaluacion_{estacion}.txt')"
   ]
  },
  {
   "cell_type": "code",
   "execution_count": 12,
   "id": "d7141c54",
   "metadata": {},
   "outputs": [
    {
     "name": "stdout",
     "output_type": "stream",
     "text": [
      ">support_vector_machine_MinMax\n",
      "kernel: linear R2: 0.703\t MSE:103.041\tRMSE:10.151\tMAE:7.564\tMAPE:1.033\n",
      "kernel: poly   R2: 0.721\t MSE:96.809\tRMSE:9.839\tMAE:7.314\tMAPE:1.016\n",
      "kernel: rbf    R2: 0.764\t MSE:81.895\tRMSE:9.050\tMAE:6.907\tMAPE:1.026\n"
     ]
    }
   ],
   "source": [
    "support_vector_machine(Xo_train,yo_train,Xo_test,yo_test,scaling='MinMax',save=True,filename=f'evaluacion_{estacion}.txt')"
   ]
  },
  {
   "cell_type": "code",
   "execution_count": 13,
   "id": "e9cbf205",
   "metadata": {},
   "outputs": [
    {
     "name": "stdout",
     "output_type": "stream",
     "text": [
      ">support_vector_machine_Zscore\n",
      "kernel: linear R2: 0.705\t MSE:102.491\tRMSE:10.124\tMAE:7.228\tMAPE:0.806\n",
      "kernel: poly   R2: 0.668\t MSE:115.479\tRMSE:10.746\tMAE:7.860\tMAPE:0.963\n",
      "kernel: rbf    R2: 0.766\t MSE:81.294\tRMSE:9.016\tMAE:6.285\tMAPE:0.667\n"
     ]
    }
   ],
   "source": [
    "support_vector_machine(Xo_train,yo_train,Xo_test,yo_test,scaling='Zscore',save=True,filename=f'evaluacion_{estacion}.txt')"
   ]
  },
  {
   "cell_type": "markdown",
   "id": "6737d030",
   "metadata": {},
   "source": [
    "# Gradient Boosting"
   ]
  },
  {
   "cell_type": "code",
   "execution_count": 14,
   "id": "f1f62825",
   "metadata": {},
   "outputs": [
    {
     "name": "stdout",
     "output_type": "stream",
     "text": [
      ">gradient_boosting_Originales\n",
      "depths: 1 R2: 0.752\t MSE:86.202\tRMSE:9.285\tMAE:6.784\tMAPE:0.837\n",
      "depths: 2 R2: 0.775\t MSE:78.331\tRMSE:8.850\tMAE:6.371\tMAPE:0.759\n",
      "depths: 3 R2: 0.781\t MSE:76.009\tRMSE:8.718\tMAE:6.290\tMAPE:0.745\n",
      "depths: 4 R2: 0.788\t MSE:73.768\tRMSE:8.589\tMAE:6.156\tMAPE:0.718\n",
      "depths: 5 R2: 0.784\t MSE:74.984\tRMSE:8.659\tMAE:6.182\tMAPE:0.702\n",
      "depths: 6 R2: 0.786\t MSE:74.250\tRMSE:8.617\tMAE:6.134\tMAPE:0.682\n",
      "depths: 7 R2: 0.786\t MSE:74.354\tRMSE:8.623\tMAE:6.110\tMAPE:0.660\n",
      "depths: 8 R2: 0.783\t MSE:75.549\tRMSE:8.692\tMAE:6.058\tMAPE:0.655\n",
      "depths: 9 R2: 0.779\t MSE:76.646\tRMSE:8.755\tMAE:6.136\tMAPE:0.639\n",
      "depths: 10 R2: 0.772\t MSE:79.191\tRMSE:8.899\tMAE:6.204\tMAPE:0.638\n",
      "depths: 11 R2: 0.756\t MSE:84.762\tRMSE:9.207\tMAE:6.412\tMAPE:0.641\n",
      "depths: 12 R2: 0.748\t MSE:87.591\tRMSE:9.359\tMAE:6.518\tMAPE:0.653\n",
      "depths: 13 R2: 0.736\t MSE:91.584\tRMSE:9.570\tMAE:6.669\tMAPE:0.660\n",
      "depths: 14 R2: 0.710\t MSE:100.924\tRMSE:10.046\tMAE:6.929\tMAPE:0.681\n",
      "depths: 15 R2: 0.683\t MSE:109.983\tRMSE:10.487\tMAE:7.185\tMAPE:0.696\n",
      "depths: 16 R2: 0.665\t MSE:116.424\tRMSE:10.790\tMAE:7.340\tMAPE:0.699\n",
      "depths: 17 R2: 0.643\t MSE:123.878\tRMSE:11.130\tMAE:7.590\tMAPE:0.733\n",
      "depths: 18 R2: 0.642\t MSE:124.270\tRMSE:11.148\tMAE:7.567\tMAPE:0.726\n",
      "depths: 19 R2: 0.624\t MSE:130.567\tRMSE:11.427\tMAE:7.741\tMAPE:0.774\n",
      "depths: 20 R2: 0.619\t MSE:132.398\tRMSE:11.506\tMAE:7.852\tMAPE:0.787\n"
     ]
    }
   ],
   "source": [
    "gradient_boosting(Xo_train,yo_train,Xo_test,yo_test,save=True,filename=f'evaluacion_{estacion}.txt')"
   ]
  },
  {
   "cell_type": "code",
   "execution_count": 15,
   "id": "b433619a",
   "metadata": {},
   "outputs": [
    {
     "name": "stdout",
     "output_type": "stream",
     "text": [
      ">gradient_boosting_MinMax\n",
      "depths: 1 R2: 0.752\t MSE:86.202\tRMSE:9.285\tMAE:6.784\tMAPE:0.837\n",
      "depths: 2 R2: 0.775\t MSE:78.331\tRMSE:8.850\tMAE:6.371\tMAPE:0.759\n",
      "depths: 3 R2: 0.781\t MSE:75.969\tRMSE:8.716\tMAE:6.290\tMAPE:0.745\n",
      "depths: 4 R2: 0.788\t MSE:73.806\tRMSE:8.591\tMAE:6.162\tMAPE:0.720\n",
      "depths: 5 R2: 0.785\t MSE:74.804\tRMSE:8.649\tMAE:6.166\tMAPE:0.701\n",
      "depths: 6 R2: 0.788\t MSE:73.686\tRMSE:8.584\tMAE:6.106\tMAPE:0.672\n",
      "depths: 7 R2: 0.784\t MSE:75.001\tRMSE:8.660\tMAE:6.128\tMAPE:0.664\n",
      "depths: 8 R2: 0.782\t MSE:75.791\tRMSE:8.706\tMAE:6.067\tMAPE:0.655\n",
      "depths: 9 R2: 0.778\t MSE:77.199\tRMSE:8.786\tMAE:6.130\tMAPE:0.636\n",
      "depths: 10 R2: 0.770\t MSE:80.038\tRMSE:8.946\tMAE:6.237\tMAPE:0.627\n",
      "depths: 11 R2: 0.759\t MSE:83.614\tRMSE:9.144\tMAE:6.374\tMAPE:0.624\n",
      "depths: 12 R2: 0.748\t MSE:87.723\tRMSE:9.366\tMAE:6.528\tMAPE:0.663\n",
      "depths: 13 R2: 0.735\t MSE:92.125\tRMSE:9.598\tMAE:6.732\tMAPE:0.680\n",
      "depths: 14 R2: 0.707\t MSE:101.883\tRMSE:10.094\tMAE:6.991\tMAPE:0.687\n",
      "depths: 15 R2: 0.691\t MSE:107.455\tRMSE:10.366\tMAE:7.139\tMAPE:0.696\n",
      "depths: 16 R2: 0.673\t MSE:113.571\tRMSE:10.657\tMAE:7.281\tMAPE:0.695\n",
      "depths: 17 R2: 0.650\t MSE:121.620\tRMSE:11.028\tMAE:7.548\tMAPE:0.741\n",
      "depths: 18 R2: 0.638\t MSE:125.863\tRMSE:11.219\tMAE:7.628\tMAPE:0.739\n",
      "depths: 19 R2: 0.630\t MSE:128.441\tRMSE:11.333\tMAE:7.681\tMAPE:0.770\n",
      "depths: 20 R2: 0.623\t MSE:131.099\tRMSE:11.450\tMAE:7.865\tMAPE:0.792\n"
     ]
    }
   ],
   "source": [
    "gradient_boosting(Xo_train,yo_train,Xo_test,yo_test,scaling='MinMax',save=True,filename=f'evaluacion_{estacion}.txt')"
   ]
  },
  {
   "cell_type": "code",
   "execution_count": 16,
   "id": "2783c792",
   "metadata": {},
   "outputs": [
    {
     "name": "stdout",
     "output_type": "stream",
     "text": [
      ">gradient_boosting_Zscore\n",
      "depths: 1 R2: 0.752\t MSE:86.202\tRMSE:9.285\tMAE:6.784\tMAPE:0.837\n",
      "depths: 2 R2: 0.775\t MSE:78.331\tRMSE:8.850\tMAE:6.371\tMAPE:0.759\n",
      "depths: 3 R2: 0.781\t MSE:75.925\tRMSE:8.713\tMAE:6.286\tMAPE:0.744\n",
      "depths: 4 R2: 0.787\t MSE:73.921\tRMSE:8.598\tMAE:6.167\tMAPE:0.719\n",
      "depths: 5 R2: 0.784\t MSE:75.139\tRMSE:8.668\tMAE:6.181\tMAPE:0.702\n",
      "depths: 6 R2: 0.788\t MSE:73.780\tRMSE:8.590\tMAE:6.101\tMAPE:0.672\n",
      "depths: 7 R2: 0.783\t MSE:75.370\tRMSE:8.682\tMAE:6.140\tMAPE:0.666\n",
      "depths: 8 R2: 0.784\t MSE:74.972\tRMSE:8.659\tMAE:6.087\tMAPE:0.648\n",
      "depths: 9 R2: 0.777\t MSE:77.524\tRMSE:8.805\tMAE:6.140\tMAPE:0.634\n",
      "depths: 10 R2: 0.769\t MSE:80.173\tRMSE:8.954\tMAE:6.233\tMAPE:0.633\n",
      "depths: 11 R2: 0.757\t MSE:84.598\tRMSE:9.198\tMAE:6.401\tMAPE:0.629\n",
      "depths: 12 R2: 0.744\t MSE:89.040\tRMSE:9.436\tMAE:6.529\tMAPE:0.661\n",
      "depths: 13 R2: 0.734\t MSE:92.551\tRMSE:9.620\tMAE:6.727\tMAPE:0.678\n",
      "depths: 14 R2: 0.702\t MSE:103.601\tRMSE:10.178\tMAE:7.036\tMAPE:0.695\n",
      "depths: 15 R2: 0.688\t MSE:108.506\tRMSE:10.417\tMAE:7.196\tMAPE:0.703\n",
      "depths: 16 R2: 0.666\t MSE:116.203\tRMSE:10.780\tMAE:7.356\tMAPE:0.708\n",
      "depths: 17 R2: 0.645\t MSE:123.437\tRMSE:11.110\tMAE:7.586\tMAPE:0.749\n",
      "depths: 18 R2: 0.638\t MSE:125.740\tRMSE:11.213\tMAE:7.628\tMAPE:0.732\n",
      "depths: 19 R2: 0.627\t MSE:129.535\tRMSE:11.381\tMAE:7.673\tMAPE:0.764\n",
      "depths: 20 R2: 0.618\t MSE:132.806\tRMSE:11.524\tMAE:7.891\tMAPE:0.793\n"
     ]
    }
   ],
   "source": [
    "gradient_boosting(Xo_train,yo_train,Xo_test,yo_test,scaling='Zscore',save=True,filename=f'evaluacion_{estacion}.txt')"
   ]
  }
 ],
 "metadata": {
  "kernelspec": {
   "display_name": "Python 3",
   "language": "python",
   "name": "python3"
  },
  "language_info": {
   "codemirror_mode": {
    "name": "ipython",
    "version": 3
   },
   "file_extension": ".py",
   "mimetype": "text/x-python",
   "name": "python",
   "nbconvert_exporter": "python",
   "pygments_lexer": "ipython3",
   "version": "3.8.8"
  }
 },
 "nbformat": 4,
 "nbformat_minor": 5
}
