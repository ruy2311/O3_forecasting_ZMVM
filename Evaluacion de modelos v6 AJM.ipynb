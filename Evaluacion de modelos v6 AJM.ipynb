{
 "cells": [
  {
   "cell_type": "code",
   "execution_count": 1,
   "id": "98bc8f2c",
   "metadata": {},
   "outputs": [],
   "source": [
    "import matplotlib.pyplot as plt\n",
    "import pandas as pd\n",
    "import numpy as np\n",
    "#import seaborn as sn\n",
    "#from ZMVM import indexByDate\n",
    "#from dmetrics import byDay,describe,plotHist\n",
    "from MET import *\n",
    "#from sklearn.tree import DecisionTreeRegressor \n",
    "#from sklearn.ensemble import RandomForestRegressor \n",
    "from sklearn.model_selection import train_test_split\n",
    "from sklearn.preprocessing import MinMaxScaler"
   ]
  },
  {
   "cell_type": "code",
   "execution_count": 2,
   "id": "d5e6e1ca",
   "metadata": {},
   "outputs": [],
   "source": [
    "estacion='AJM'"
   ]
  },
  {
   "cell_type": "code",
   "execution_count": 3,
   "id": "88836562",
   "metadata": {},
   "outputs": [
    {
     "data": {
      "image/png": "[encoded data removed]",
      "text/plain": [
       "<Figure size 720x360 with 1 Axes>"
      ]
     },
     "metadata": {
      "needs_background": "dark"
     },
     "output_type": "display_data"
    }
   ],
   "source": [
    "df = indexByDate(pd.read_pickle(f\"DF/{estacion}_2015.pkl\"))\n",
    "fig,ax = plt.subplots(frameon=False)\n",
    "fig.set_size_inches((10,5))\n",
    "for spine in ['top', 'right', 'left']:\n",
    "    ax.spines[spine].set_visible(False)\n",
    "ax.spines['bottom'].set_color('whitesmoke')\n",
    "ax.tick_params(color='white', labelcolor='gray')\n",
    "plt.xlabel('Hora del Dia')\n",
    "plt.ylabel('concentración (ppb)')\n",
    "df_o3 = byDay(df,'o3').dropna()\n",
    "ax = df_o3.plot.box(ax=ax)\n",
    "#fig.savefig('XAL_O3.png',dpi=300)\n",
    "#Image.open('XAL_O3.png').convert('L').save('XAL_O3_bw.png')"
   ]
  },
  {
   "cell_type": "code",
   "execution_count": 4,
   "id": "5e4ea90d",
   "metadata": {},
   "outputs": [],
   "source": [
    "Xo_train = pd.read_pickle(f'DF/{estacion}/pkls/Xo_train.pkl')\n",
    "yo_train = pd.read_pickle(f'DF/{estacion}/pkls/yo_train.pkl')\n",
    "Xo_test  = pd.read_pickle(f'DF/{estacion}/pkls/Xo_test.pkl')\n",
    "yo_test  = pd.read_pickle(f'DF/{estacion}/pkls/yo_test.pkl')"
   ]
  },
  {
   "cell_type": "markdown",
   "id": "a04dc989",
   "metadata": {},
   "source": [
    "# Random forest"
   ]
  },
  {
   "cell_type": "code",
   "execution_count": 5,
   "id": "3d307704",
   "metadata": {},
   "outputs": [
    {
     "name": "stdout",
     "output_type": "stream",
     "text": [
      ">random_forest_Originales\n",
      "depth: 1 R2: 0.429\t MSE:411.953\tRMSE:20.297\tMAE:15.178\tMAPE:0.682\n",
      "depth: 2 R2: 0.522\t MSE:344.792\tRMSE:18.569\tMAE:13.447\tMAPE:0.576\n",
      "depth: 3 R2: 0.579\t MSE:303.804\tRMSE:17.430\tMAE:12.708\tMAPE:0.538\n",
      "depth: 4 R2: 0.621\t MSE:273.459\tRMSE:16.537\tMAE:11.993\tMAPE:0.500\n",
      "depth: 5 R2: 0.641\t MSE:259.575\tRMSE:16.111\tMAE:11.695\tMAPE:0.483\n",
      "depth: 6 R2: 0.659\t MSE:245.969\tRMSE:15.683\tMAE:11.404\tMAPE:0.468\n",
      "depth: 7 R2: 0.670\t MSE:238.179\tRMSE:15.433\tMAE:11.205\tMAPE:0.459\n",
      "depth: 8 R2: 0.677\t MSE:232.864\tRMSE:15.260\tMAE:11.071\tMAPE:0.451\n",
      "depth: 9 R2: 0.685\t MSE:227.747\tRMSE:15.091\tMAE:10.951\tMAPE:0.445\n",
      "depth: 10 R2: 0.689\t MSE:224.626\tRMSE:14.988\tMAE:10.862\tMAPE:0.440\n",
      "depth: 11 R2: 0.690\t MSE:223.819\tRMSE:14.961\tMAE:10.807\tMAPE:0.436\n",
      "depth: 12 R2: 0.693\t MSE:221.937\tRMSE:14.898\tMAE:10.733\tMAPE:0.432\n",
      "depth: 13 R2: 0.695\t MSE:220.562\tRMSE:14.851\tMAE:10.659\tMAPE:0.428\n",
      "depth: 14 R2: 0.697\t MSE:218.929\tRMSE:14.796\tMAE:10.624\tMAPE:0.426\n",
      "depth: 15 R2: 0.696\t MSE:219.203\tRMSE:14.806\tMAE:10.634\tMAPE:0.427\n",
      "depth: 16 R2: 0.697\t MSE:218.811\tRMSE:14.792\tMAE:10.614\tMAPE:0.426\n",
      "depth: 17 R2: 0.696\t MSE:219.403\tRMSE:14.812\tMAE:10.623\tMAPE:0.425\n",
      "depth: 18 R2: 0.698\t MSE:218.413\tRMSE:14.779\tMAE:10.601\tMAPE:0.425\n",
      "depth: 19 R2: 0.695\t MSE:220.357\tRMSE:14.844\tMAE:10.638\tMAPE:0.426\n",
      "depth: 20 R2: 0.696\t MSE:219.224\tRMSE:14.806\tMAE:10.611\tMAPE:0.425\n"
     ]
    }
   ],
   "source": [
    "random_forest(Xo_train,yo_train,Xo_test,yo_test,save=True,mode='w',filename=f'evaluacion_{estacion}.txt')"
   ]
  },
  {
   "cell_type": "code",
   "execution_count": 6,
   "id": "e5e9ef6d",
   "metadata": {},
   "outputs": [
    {
     "name": "stdout",
     "output_type": "stream",
     "text": [
      ">random_forest_MinMax\n",
      "depth: 1 R2: 0.429\t MSE:411.953\tRMSE:20.297\tMAE:15.178\tMAPE:0.682\n",
      "depth: 2 R2: 0.522\t MSE:344.792\tRMSE:18.569\tMAE:13.447\tMAPE:0.576\n",
      "depth: 3 R2: 0.579\t MSE:303.804\tRMSE:17.430\tMAE:12.708\tMAPE:0.538\n",
      "depth: 4 R2: 0.621\t MSE:273.442\tRMSE:16.536\tMAE:11.993\tMAPE:0.500\n",
      "depth: 5 R2: 0.641\t MSE:259.520\tRMSE:16.110\tMAE:11.695\tMAPE:0.482\n",
      "depth: 6 R2: 0.659\t MSE:245.901\tRMSE:15.681\tMAE:11.403\tMAPE:0.468\n",
      "depth: 7 R2: 0.670\t MSE:237.976\tRMSE:15.426\tMAE:11.203\tMAPE:0.458\n",
      "depth: 8 R2: 0.678\t MSE:232.514\tRMSE:15.248\tMAE:11.074\tMAPE:0.451\n",
      "depth: 9 R2: 0.685\t MSE:227.544\tRMSE:15.085\tMAE:10.945\tMAPE:0.445\n",
      "depth: 10 R2: 0.688\t MSE:225.135\tRMSE:15.005\tMAE:10.863\tMAPE:0.440\n",
      "depth: 11 R2: 0.692\t MSE:222.686\tRMSE:14.923\tMAE:10.771\tMAPE:0.435\n",
      "depth: 12 R2: 0.693\t MSE:221.727\tRMSE:14.890\tMAE:10.722\tMAPE:0.433\n",
      "depth: 13 R2: 0.695\t MSE:220.394\tRMSE:14.846\tMAE:10.670\tMAPE:0.430\n",
      "depth: 14 R2: 0.697\t MSE:219.062\tRMSE:14.801\tMAE:10.633\tMAPE:0.427\n",
      "depth: 15 R2: 0.696\t MSE:219.570\tRMSE:14.818\tMAE:10.661\tMAPE:0.427\n",
      "depth: 16 R2: 0.698\t MSE:218.266\tRMSE:14.774\tMAE:10.604\tMAPE:0.425\n",
      "depth: 17 R2: 0.695\t MSE:219.894\tRMSE:14.829\tMAE:10.642\tMAPE:0.425\n",
      "depth: 18 R2: 0.696\t MSE:219.504\tRMSE:14.816\tMAE:10.619\tMAPE:0.424\n",
      "depth: 19 R2: 0.696\t MSE:219.255\tRMSE:14.807\tMAE:10.621\tMAPE:0.424\n",
      "depth: 20 R2: 0.698\t MSE:218.404\tRMSE:14.779\tMAE:10.618\tMAPE:0.424\n"
     ]
    }
   ],
   "source": [
    "random_forest(Xo_train,yo_train,Xo_test,yo_test,scaling='MinMax',save=True,filename=f'evaluacion_{estacion}.txt')"
   ]
  },
  {
   "cell_type": "code",
   "execution_count": 7,
   "id": "79ddfdee",
   "metadata": {},
   "outputs": [
    {
     "name": "stdout",
     "output_type": "stream",
     "text": [
      ">random_forest_Zscore\n",
      "depth: 1 R2: 0.429\t MSE:411.953\tRMSE:20.297\tMAE:15.178\tMAPE:0.682\n",
      "depth: 2 R2: 0.522\t MSE:344.792\tRMSE:18.569\tMAE:13.447\tMAPE:0.576\n",
      "depth: 3 R2: 0.579\t MSE:303.804\tRMSE:17.430\tMAE:12.708\tMAPE:0.538\n",
      "depth: 4 R2: 0.621\t MSE:273.461\tRMSE:16.537\tMAE:11.993\tMAPE:0.500\n",
      "depth: 5 R2: 0.641\t MSE:259.522\tRMSE:16.110\tMAE:11.695\tMAPE:0.482\n",
      "depth: 6 R2: 0.659\t MSE:245.988\tRMSE:15.684\tMAE:11.404\tMAPE:0.468\n",
      "depth: 7 R2: 0.670\t MSE:237.951\tRMSE:15.426\tMAE:11.202\tMAPE:0.458\n",
      "depth: 8 R2: 0.679\t MSE:232.064\tRMSE:15.234\tMAE:11.056\tMAPE:0.451\n",
      "depth: 9 R2: 0.685\t MSE:227.731\tRMSE:15.091\tMAE:10.951\tMAPE:0.445\n",
      "depth: 10 R2: 0.689\t MSE:224.712\tRMSE:14.990\tMAE:10.861\tMAPE:0.440\n",
      "depth: 11 R2: 0.692\t MSE:222.286\tRMSE:14.909\tMAE:10.772\tMAPE:0.435\n",
      "depth: 12 R2: 0.693\t MSE:221.472\tRMSE:14.882\tMAE:10.739\tMAPE:0.432\n",
      "depth: 13 R2: 0.696\t MSE:219.821\tRMSE:14.826\tMAE:10.666\tMAPE:0.428\n",
      "depth: 14 R2: 0.696\t MSE:219.309\tRMSE:14.809\tMAE:10.645\tMAPE:0.427\n",
      "depth: 15 R2: 0.697\t MSE:218.858\tRMSE:14.794\tMAE:10.650\tMAPE:0.427\n",
      "depth: 16 R2: 0.694\t MSE:220.664\tRMSE:14.855\tMAE:10.676\tMAPE:0.427\n",
      "depth: 17 R2: 0.698\t MSE:218.312\tRMSE:14.775\tMAE:10.623\tMAPE:0.426\n",
      "depth: 18 R2: 0.698\t MSE:218.082\tRMSE:14.768\tMAE:10.592\tMAPE:0.424\n",
      "depth: 19 R2: 0.698\t MSE:217.961\tRMSE:14.764\tMAE:10.603\tMAPE:0.425\n",
      "depth: 20 R2: 0.698\t MSE:217.963\tRMSE:14.764\tMAE:10.592\tMAPE:0.424\n"
     ]
    }
   ],
   "source": [
    "random_forest(Xo_train,yo_train,Xo_test,yo_test,scaling='Zscore',save=True,filename=f'evaluacion_{estacion}.txt')"
   ]
  },
  {
   "cell_type": "markdown",
   "id": "2ba713e5",
   "metadata": {},
   "source": [
    "# KNN"
   ]
  },
  {
   "cell_type": "code",
   "execution_count": 8,
   "id": "316b9ad1",
   "metadata": {},
   "outputs": [
    {
     "name": "stdout",
     "output_type": "stream",
     "text": [
      ">k_nearest_neighbor_Originales\n",
      "n_neighbors: 1 R2: 0.283\t MSE:517.483\tRMSE:22.748\tMAE:16.303\tMAPE:0.620\n",
      "n_neighbors: 2 R2: 0.459\t MSE:390.366\tRMSE:19.758\tMAE:14.159\tMAPE:0.542\n",
      "n_neighbors: 3 R2: 0.514\t MSE:350.764\tRMSE:18.729\tMAE:13.393\tMAPE:0.530\n",
      "n_neighbors: 4 R2: 0.535\t MSE:335.827\tRMSE:18.326\tMAE:13.108\tMAPE:0.522\n",
      "n_neighbors: 5 R2: 0.544\t MSE:329.068\tRMSE:18.140\tMAE:12.993\tMAPE:0.515\n",
      "n_neighbors: 6 R2: 0.552\t MSE:323.195\tRMSE:17.978\tMAE:12.915\tMAPE:0.514\n",
      "n_neighbors: 7 R2: 0.553\t MSE:322.606\tRMSE:17.961\tMAE:12.881\tMAPE:0.510\n",
      "n_neighbors: 8 R2: 0.554\t MSE:322.096\tRMSE:17.947\tMAE:12.915\tMAPE:0.511\n",
      "n_neighbors: 9 R2: 0.556\t MSE:320.691\tRMSE:17.908\tMAE:12.899\tMAPE:0.515\n",
      "n_neighbors: 10 R2: 0.561\t MSE:317.220\tRMSE:17.811\tMAE:12.831\tMAPE:0.515\n",
      "n_neighbors: 11 R2: 0.566\t MSE:313.549\tRMSE:17.707\tMAE:12.754\tMAPE:0.513\n",
      "n_neighbors: 12 R2: 0.566\t MSE:313.089\tRMSE:17.694\tMAE:12.766\tMAPE:0.516\n",
      "n_neighbors: 13 R2: 0.565\t MSE:313.849\tRMSE:17.716\tMAE:12.813\tMAPE:0.519\n",
      "n_neighbors: 14 R2: 0.564\t MSE:314.761\tRMSE:17.741\tMAE:12.818\tMAPE:0.519\n",
      "n_neighbors: 15 R2: 0.561\t MSE:316.941\tRMSE:17.803\tMAE:12.847\tMAPE:0.520\n",
      "n_neighbors: 16 R2: 0.562\t MSE:316.601\tRMSE:17.793\tMAE:12.840\tMAPE:0.522\n",
      "n_neighbors: 17 R2: 0.561\t MSE:317.078\tRMSE:17.807\tMAE:12.855\tMAPE:0.522\n",
      "n_neighbors: 18 R2: 0.559\t MSE:318.379\tRMSE:17.843\tMAE:12.856\tMAPE:0.524\n",
      "n_neighbors: 19 R2: 0.559\t MSE:318.647\tRMSE:17.851\tMAE:12.854\tMAPE:0.525\n",
      "n_neighbors: 20 R2: 0.559\t MSE:318.483\tRMSE:17.846\tMAE:12.848\tMAPE:0.525\n"
     ]
    }
   ],
   "source": [
    "k_nearest_neighbor(Xo_train,yo_train,Xo_test,yo_test,save=True,filename=f'evaluacion_{estacion}.txt')"
   ]
  },
  {
   "cell_type": "code",
   "execution_count": 9,
   "id": "1b30fd49",
   "metadata": {},
   "outputs": [
    {
     "name": "stdout",
     "output_type": "stream",
     "text": [
      ">k_nearest_neighbor_MinMax\n",
      "n_neighbors: 1 R2: 0.558\t MSE:319.419\tRMSE:17.872\tMAE:12.238\tMAPE:0.441\n",
      "n_neighbors: 2 R2: 0.650\t MSE:252.519\tRMSE:15.891\tMAE:11.110\tMAPE:0.413\n",
      "n_neighbors: 3 R2: 0.671\t MSE:237.304\tRMSE:15.405\tMAE:10.750\tMAPE:0.405\n",
      "n_neighbors: 4 R2: 0.673\t MSE:235.961\tRMSE:15.361\tMAE:10.948\tMAPE:0.417\n",
      "n_neighbors: 5 R2: 0.669\t MSE:239.089\tRMSE:15.462\tMAE:11.123\tMAPE:0.423\n",
      "n_neighbors: 6 R2: 0.666\t MSE:241.266\tRMSE:15.533\tMAE:11.141\tMAPE:0.426\n",
      "n_neighbors: 7 R2: 0.666\t MSE:241.516\tRMSE:15.541\tMAE:11.154\tMAPE:0.432\n",
      "n_neighbors: 8 R2: 0.657\t MSE:247.429\tRMSE:15.730\tMAE:11.353\tMAPE:0.442\n",
      "n_neighbors: 9 R2: 0.652\t MSE:251.031\tRMSE:15.844\tMAE:11.410\tMAPE:0.444\n",
      "n_neighbors: 10 R2: 0.652\t MSE:251.585\tRMSE:15.861\tMAE:11.453\tMAPE:0.445\n",
      "n_neighbors: 11 R2: 0.651\t MSE:251.893\tRMSE:15.871\tMAE:11.505\tMAPE:0.450\n",
      "n_neighbors: 12 R2: 0.651\t MSE:251.804\tRMSE:15.868\tMAE:11.483\tMAPE:0.450\n",
      "n_neighbors: 13 R2: 0.650\t MSE:252.673\tRMSE:15.896\tMAE:11.500\tMAPE:0.451\n",
      "n_neighbors: 14 R2: 0.647\t MSE:254.866\tRMSE:15.965\tMAE:11.564\tMAPE:0.453\n",
      "n_neighbors: 15 R2: 0.647\t MSE:254.611\tRMSE:15.957\tMAE:11.570\tMAPE:0.456\n",
      "n_neighbors: 16 R2: 0.645\t MSE:256.337\tRMSE:16.011\tMAE:11.617\tMAPE:0.459\n",
      "n_neighbors: 17 R2: 0.644\t MSE:257.270\tRMSE:16.040\tMAE:11.653\tMAPE:0.462\n",
      "n_neighbors: 18 R2: 0.642\t MSE:258.727\tRMSE:16.085\tMAE:11.700\tMAPE:0.465\n",
      "n_neighbors: 19 R2: 0.642\t MSE:258.325\tRMSE:16.072\tMAE:11.702\tMAPE:0.468\n",
      "n_neighbors: 20 R2: 0.637\t MSE:262.310\tRMSE:16.196\tMAE:11.789\tMAPE:0.472\n"
     ]
    }
   ],
   "source": [
    "k_nearest_neighbor(Xo_train,yo_train,Xo_test,yo_test,scaling='MinMax',save=True,filename=f'evaluacion_{estacion}.txt')"
   ]
  },
  {
   "cell_type": "code",
   "execution_count": 10,
   "id": "1393e0e5",
   "metadata": {},
   "outputs": [
    {
     "name": "stdout",
     "output_type": "stream",
     "text": [
      ">k_nearest_neighbor_Zscore\n",
      "n_neighbors: 1 R2: 0.501\t MSE:360.592\tRMSE:18.989\tMAE:13.202\tMAPE:0.487\n",
      "n_neighbors: 2 R2: 0.633\t MSE:265.185\tRMSE:16.284\tMAE:11.380\tMAPE:0.432\n",
      "n_neighbors: 3 R2: 0.644\t MSE:257.376\tRMSE:16.043\tMAE:11.372\tMAPE:0.435\n",
      "n_neighbors: 4 R2: 0.639\t MSE:260.652\tRMSE:16.145\tMAE:11.554\tMAPE:0.440\n",
      "n_neighbors: 5 R2: 0.645\t MSE:256.157\tRMSE:16.005\tMAE:11.486\tMAPE:0.444\n",
      "n_neighbors: 6 R2: 0.646\t MSE:255.846\tRMSE:15.995\tMAE:11.541\tMAPE:0.450\n",
      "n_neighbors: 7 R2: 0.640\t MSE:260.062\tRMSE:16.126\tMAE:11.634\tMAPE:0.453\n",
      "n_neighbors: 8 R2: 0.640\t MSE:259.991\tRMSE:16.124\tMAE:11.607\tMAPE:0.456\n",
      "n_neighbors: 9 R2: 0.638\t MSE:261.697\tRMSE:16.177\tMAE:11.676\tMAPE:0.462\n",
      "n_neighbors: 10 R2: 0.637\t MSE:262.376\tRMSE:16.198\tMAE:11.700\tMAPE:0.466\n",
      "n_neighbors: 11 R2: 0.635\t MSE:263.678\tRMSE:16.238\tMAE:11.758\tMAPE:0.469\n",
      "n_neighbors: 12 R2: 0.637\t MSE:262.124\tRMSE:16.190\tMAE:11.762\tMAPE:0.473\n",
      "n_neighbors: 13 R2: 0.632\t MSE:265.972\tRMSE:16.309\tMAE:11.883\tMAPE:0.477\n",
      "n_neighbors: 14 R2: 0.630\t MSE:267.098\tRMSE:16.343\tMAE:11.907\tMAPE:0.480\n",
      "n_neighbors: 15 R2: 0.626\t MSE:269.807\tRMSE:16.426\tMAE:11.939\tMAPE:0.480\n",
      "n_neighbors: 16 R2: 0.621\t MSE:273.973\tRMSE:16.552\tMAE:12.039\tMAPE:0.482\n",
      "n_neighbors: 17 R2: 0.620\t MSE:274.688\tRMSE:16.574\tMAE:12.076\tMAPE:0.485\n",
      "n_neighbors: 18 R2: 0.617\t MSE:276.639\tRMSE:16.632\tMAE:12.158\tMAPE:0.489\n",
      "n_neighbors: 19 R2: 0.616\t MSE:277.520\tRMSE:16.659\tMAE:12.192\tMAPE:0.491\n",
      "n_neighbors: 20 R2: 0.613\t MSE:279.163\tRMSE:16.708\tMAE:12.231\tMAPE:0.492\n"
     ]
    }
   ],
   "source": [
    "k_nearest_neighbor(Xo_train,yo_train,Xo_test,yo_test,scaling='Zscore',save=True,filename=f'evaluacion_{estacion}.txt')"
   ]
  },
  {
   "cell_type": "markdown",
   "id": "132cb3f1",
   "metadata": {},
   "source": [
    "# Support Vector Machine"
   ]
  },
  {
   "cell_type": "code",
   "execution_count": 11,
   "id": "6d586a7d",
   "metadata": {},
   "outputs": [
    {
     "name": "stdout",
     "output_type": "stream",
     "text": [
      ">support_vector_machine_Originales\n",
      "kernel: linear R2: 0.546\t MSE:328.166\tRMSE:18.115\tMAE:12.872\tMAPE:0.493\n",
      "kernel: poly   R2: 0.355\t MSE:465.626\tRMSE:21.578\tMAE:15.465\tMAPE:0.624\n",
      "kernel: rbf    R2: 0.498\t MSE:362.690\tRMSE:19.044\tMAE:13.349\tMAPE:0.526\n"
     ]
    }
   ],
   "source": [
    "support_vector_machine(Xo_train,yo_train,Xo_test,yo_test,save=True,filename=f'evaluacion_{estacion}.txt')"
   ]
  },
  {
   "cell_type": "code",
   "execution_count": 12,
   "id": "e62538a0",
   "metadata": {},
   "outputs": [
    {
     "name": "stdout",
     "output_type": "stream",
     "text": [
      ">support_vector_machine_MinMax\n",
      "kernel: linear R2: 0.558\t MSE:319.259\tRMSE:17.868\tMAE:12.893\tMAPE:0.535\n",
      "kernel: poly   R2: 0.606\t MSE:284.740\tRMSE:16.874\tMAE:12.322\tMAPE:0.510\n",
      "kernel: rbf    R2: 0.656\t MSE:248.624\tRMSE:15.768\tMAE:11.463\tMAPE:0.470\n"
     ]
    }
   ],
   "source": [
    "support_vector_machine(Xo_train,yo_train,Xo_test,yo_test,scaling='MinMax',save=True,filename=f'evaluacion_{estacion}.txt')"
   ]
  },
  {
   "cell_type": "code",
   "execution_count": 13,
   "id": "2400824f",
   "metadata": {},
   "outputs": [
    {
     "name": "stdout",
     "output_type": "stream",
     "text": [
      ">support_vector_machine_Zscore\n",
      "kernel: linear R2: 0.548\t MSE:326.258\tRMSE:18.063\tMAE:12.862\tMAPE:0.496\n",
      "kernel: poly   R2: 0.520\t MSE:346.431\tRMSE:18.613\tMAE:13.283\tMAPE:0.543\n",
      "kernel: rbf    R2: 0.635\t MSE:263.268\tRMSE:16.226\tMAE:11.472\tMAPE:0.439\n"
     ]
    }
   ],
   "source": [
    "support_vector_machine(Xo_train,yo_train,Xo_test,yo_test,scaling='Zscore',save=True,filename=f'evaluacion_{estacion}.txt')"
   ]
  },
  {
   "cell_type": "markdown",
   "id": "f9be737d",
   "metadata": {},
   "source": [
    "# Gradient Boosting"
   ]
  },
  {
   "cell_type": "code",
   "execution_count": 14,
   "id": "e646be7b",
   "metadata": {},
   "outputs": [
    {
     "name": "stdout",
     "output_type": "stream",
     "text": [
      ">gradient_boosting_Originales\n",
      "depths: 1 R2: 0.637\t MSE:261.861\tRMSE:16.182\tMAE:11.707\tMAPE:0.483\n",
      "depths: 2 R2: 0.672\t MSE:236.979\tRMSE:15.394\tMAE:11.185\tMAPE:0.459\n",
      "depths: 3 R2: 0.685\t MSE:227.676\tRMSE:15.089\tMAE:10.890\tMAPE:0.441\n",
      "depths: 4 R2: 0.699\t MSE:217.657\tRMSE:14.753\tMAE:10.544\tMAPE:0.426\n",
      "depths: 5 R2: 0.692\t MSE:222.034\tRMSE:14.901\tMAE:10.573\tMAPE:0.423\n",
      "depths: 6 R2: 0.700\t MSE:216.581\tRMSE:14.717\tMAE:10.494\tMAPE:0.409\n",
      "depths: 7 R2: 0.698\t MSE:218.271\tRMSE:14.774\tMAE:10.499\tMAPE:0.412\n",
      "depths: 8 R2: 0.694\t MSE:221.290\tRMSE:14.876\tMAE:10.640\tMAPE:0.411\n",
      "depths: 9 R2: 0.706\t MSE:212.127\tRMSE:14.565\tMAE:10.429\tMAPE:0.412\n",
      "depths: 10 R2: 0.689\t MSE:224.227\tRMSE:14.974\tMAE:10.759\tMAPE:0.421\n",
      "depths: 11 R2: 0.679\t MSE:231.444\tRMSE:15.213\tMAE:10.948\tMAPE:0.428\n",
      "depths: 12 R2: 0.655\t MSE:248.853\tRMSE:15.775\tMAE:11.234\tMAPE:0.435\n",
      "depths: 13 R2: 0.642\t MSE:258.848\tRMSE:16.089\tMAE:11.511\tMAPE:0.450\n",
      "depths: 14 R2: 0.631\t MSE:266.102\tRMSE:16.313\tMAE:11.634\tMAPE:0.449\n",
      "depths: 15 R2: 0.615\t MSE:278.003\tRMSE:16.673\tMAE:11.987\tMAPE:0.459\n",
      "depths: 16 R2: 0.562\t MSE:316.355\tRMSE:17.786\tMAE:12.733\tMAPE:0.480\n",
      "depths: 17 R2: 0.523\t MSE:344.293\tRMSE:18.555\tMAE:13.186\tMAPE:0.492\n",
      "depths: 18 R2: 0.492\t MSE:367.076\tRMSE:19.159\tMAE:13.611\tMAPE:0.503\n",
      "depths: 19 R2: 0.461\t MSE:389.467\tRMSE:19.735\tMAE:14.153\tMAPE:0.533\n",
      "depths: 20 R2: 0.453\t MSE:395.272\tRMSE:19.881\tMAE:14.247\tMAPE:0.537\n"
     ]
    }
   ],
   "source": [
    "gradient_boosting(Xo_train,yo_train,Xo_test,yo_test,save=True,filename=f'evaluacion_{estacion}.txt')"
   ]
  },
  {
   "cell_type": "code",
   "execution_count": 15,
   "id": "0768a7e1",
   "metadata": {},
   "outputs": [
    {
     "name": "stdout",
     "output_type": "stream",
     "text": [
      ">gradient_boosting_MinMax\n",
      "depths: 1 R2: 0.637\t MSE:261.861\tRMSE:16.182\tMAE:11.707\tMAPE:0.483\n",
      "depths: 2 R2: 0.672\t MSE:237.053\tRMSE:15.397\tMAE:11.184\tMAPE:0.459\n",
      "depths: 3 R2: 0.684\t MSE:227.910\tRMSE:15.097\tMAE:10.897\tMAPE:0.441\n",
      "depths: 4 R2: 0.699\t MSE:217.388\tRMSE:14.744\tMAE:10.536\tMAPE:0.425\n",
      "depths: 5 R2: 0.693\t MSE:221.748\tRMSE:14.891\tMAE:10.572\tMAPE:0.423\n",
      "depths: 6 R2: 0.701\t MSE:216.174\tRMSE:14.703\tMAE:10.473\tMAPE:0.409\n",
      "depths: 7 R2: 0.696\t MSE:219.443\tRMSE:14.814\tMAE:10.497\tMAPE:0.411\n",
      "depths: 8 R2: 0.699\t MSE:217.259\tRMSE:14.740\tMAE:10.556\tMAPE:0.405\n",
      "depths: 9 R2: 0.698\t MSE:217.925\tRMSE:14.762\tMAE:10.466\tMAPE:0.410\n",
      "depths: 10 R2: 0.688\t MSE:225.380\tRMSE:15.013\tMAE:10.753\tMAPE:0.421\n",
      "depths: 11 R2: 0.678\t MSE:232.697\tRMSE:15.254\tMAE:10.882\tMAPE:0.422\n",
      "depths: 12 R2: 0.663\t MSE:243.060\tRMSE:15.590\tMAE:11.111\tMAPE:0.440\n",
      "depths: 13 R2: 0.640\t MSE:260.157\tRMSE:16.129\tMAE:11.560\tMAPE:0.449\n",
      "depths: 14 R2: 0.636\t MSE:262.740\tRMSE:16.209\tMAE:11.645\tMAPE:0.449\n",
      "depths: 15 R2: 0.618\t MSE:275.864\tRMSE:16.609\tMAE:11.950\tMAPE:0.455\n",
      "depths: 16 R2: 0.568\t MSE:312.055\tRMSE:17.665\tMAE:12.653\tMAPE:0.479\n",
      "depths: 17 R2: 0.523\t MSE:344.407\tRMSE:18.558\tMAE:13.115\tMAPE:0.490\n",
      "depths: 18 R2: 0.491\t MSE:367.756\tRMSE:19.177\tMAE:13.607\tMAPE:0.505\n",
      "depths: 19 R2: 0.469\t MSE:383.310\tRMSE:19.578\tMAE:13.972\tMAPE:0.526\n",
      "depths: 20 R2: 0.453\t MSE:394.809\tRMSE:19.870\tMAE:14.185\tMAPE:0.535\n"
     ]
    }
   ],
   "source": [
    "gradient_boosting(Xo_train,yo_train,Xo_test,yo_test,scaling='MinMax',save=True,filename=f'evaluacion_{estacion}.txt')"
   ]
  },
  {
   "cell_type": "code",
   "execution_count": 16,
   "id": "f5e66508",
   "metadata": {},
   "outputs": [
    {
     "name": "stdout",
     "output_type": "stream",
     "text": [
      ">gradient_boosting_Zscore\n",
      "depths: 1 R2: 0.637\t MSE:261.861\tRMSE:16.182\tMAE:11.707\tMAPE:0.483\n",
      "depths: 2 R2: 0.672\t MSE:237.092\tRMSE:15.398\tMAE:11.187\tMAPE:0.459\n",
      "depths: 3 R2: 0.684\t MSE:228.270\tRMSE:15.109\tMAE:10.907\tMAPE:0.441\n",
      "depths: 4 R2: 0.698\t MSE:217.976\tRMSE:14.764\tMAE:10.548\tMAPE:0.426\n",
      "depths: 5 R2: 0.692\t MSE:222.172\tRMSE:14.905\tMAE:10.570\tMAPE:0.423\n",
      "depths: 6 R2: 0.701\t MSE:215.893\tRMSE:14.693\tMAE:10.448\tMAPE:0.407\n",
      "depths: 7 R2: 0.696\t MSE:219.561\tRMSE:14.818\tMAE:10.529\tMAPE:0.412\n",
      "depths: 8 R2: 0.697\t MSE:218.501\tRMSE:14.782\tMAE:10.572\tMAPE:0.411\n",
      "depths: 9 R2: 0.699\t MSE:217.105\tRMSE:14.734\tMAE:10.569\tMAPE:0.412\n",
      "depths: 10 R2: 0.687\t MSE:226.115\tRMSE:15.037\tMAE:10.735\tMAPE:0.420\n",
      "depths: 11 R2: 0.676\t MSE:233.627\tRMSE:15.285\tMAE:10.906\tMAPE:0.421\n",
      "depths: 12 R2: 0.655\t MSE:249.333\tRMSE:15.790\tMAE:11.293\tMAPE:0.442\n",
      "depths: 13 R2: 0.648\t MSE:254.513\tRMSE:15.953\tMAE:11.547\tMAPE:0.449\n",
      "depths: 14 R2: 0.633\t MSE:265.150\tRMSE:16.283\tMAE:11.606\tMAPE:0.450\n",
      "depths: 15 R2: 0.612\t MSE:279.993\tRMSE:16.733\tMAE:12.003\tMAPE:0.459\n",
      "depths: 16 R2: 0.572\t MSE:309.263\tRMSE:17.586\tMAE:12.579\tMAPE:0.482\n",
      "depths: 17 R2: 0.511\t MSE:352.920\tRMSE:18.786\tMAE:13.323\tMAPE:0.501\n",
      "depths: 18 R2: 0.490\t MSE:368.451\tRMSE:19.195\tMAE:13.647\tMAPE:0.508\n",
      "depths: 19 R2: 0.462\t MSE:388.275\tRMSE:19.705\tMAE:14.114\tMAPE:0.533\n",
      "depths: 20 R2: 0.448\t MSE:398.212\tRMSE:19.955\tMAE:14.285\tMAPE:0.540\n"
     ]
    }
   ],
   "source": [
    "gradient_boosting(Xo_train,yo_train,Xo_test,yo_test,scaling='Zscore',save=True,filename=f'evaluacion_{estacion}.txt')"
   ]
  }
 ],
 "metadata": {
  "kernelspec": {
   "display_name": "Python 3",
   "language": "python",
   "name": "python3"
  },
  "language_info": {
   "codemirror_mode": {
    "name": "ipython",
    "version": 3
   },
   "file_extension": ".py",
   "mimetype": "text/x-python",
   "name": "python",
   "nbconvert_exporter": "python",
   "pygments_lexer": "ipython3",
   "version": "3.8.8"
  }
 },
 "nbformat": 4,
 "nbformat_minor": 5
}
