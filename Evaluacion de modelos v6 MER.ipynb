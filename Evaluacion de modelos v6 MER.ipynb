{
 "cells": [
  {
   "cell_type": "code",
   "execution_count": 1,
   "id": "98bc8f2c",
   "metadata": {},
   "outputs": [],
   "source": [
    "import matplotlib.pyplot as plt\n",
    "import pandas as pd\n",
    "import numpy as np\n",
    "#import seaborn as sn\n",
    "#from ZMVM import indexByDate\n",
    "#from dmetrics import byDay,describe,plotHist\n",
    "from MET import *\n",
    "#from sklearn.tree import DecisionTreeRegressor \n",
    "#from sklearn.ensemble import RandomForestRegressor \n",
    "from sklearn.model_selection import train_test_split\n",
    "from sklearn.preprocessing import MinMaxScaler"
   ]
  },
  {
   "cell_type": "code",
   "execution_count": 3,
   "id": "7891bf61",
   "metadata": {},
   "outputs": [],
   "source": [
    "estacion='MER'"
   ]
  },
  {
   "cell_type": "code",
   "execution_count": 4,
   "id": "60e76b94",
   "metadata": {},
   "outputs": [
    {
     "data": {
      "image/png": "[encoded data removed]",
      "text/plain": [
       "<Figure size 720x360 with 1 Axes>"
      ]
     },
     "metadata": {
      "needs_background": "dark"
     },
     "output_type": "display_data"
    }
   ],
   "source": [
    "df = indexByDate(pd.read_pickle(f\"DF/{estacion}_2015.pkl\"))\n",
    "fig,ax = plt.subplots(frameon=False)\n",
    "fig.set_size_inches((10,5))\n",
    "for spine in ['top', 'right', 'left']:\n",
    "    ax.spines[spine].set_visible(False)\n",
    "ax.spines['bottom'].set_color('whitesmoke')\n",
    "ax.tick_params(color='white', labelcolor='gray')\n",
    "plt.xlabel('Hora del Dia')\n",
    "plt.ylabel('concentración (ppb)')\n",
    "df_o3 = byDay(df,'o3').dropna()\n",
    "ax = df_o3.plot.box(ax=ax)\n",
    "#fig.savefig('XAL_O3.png',dpi=300)\n",
    "#Image.open('XAL_O3.png').convert('L').save('XAL_O3_bw.png')"
   ]
  },
  {
   "cell_type": "code",
   "execution_count": 5,
   "id": "dfd39c6f",
   "metadata": {},
   "outputs": [],
   "source": [
    "Xo_train = pd.read_pickle(f'DF/{estacion}/pkls/Xo_train.pkl')\n",
    "yo_train = pd.read_pickle(f'DF/{estacion}/pkls/yo_train.pkl')\n",
    "Xo_test  = pd.read_pickle(f'DF/{estacion}/pkls/Xo_test.pkl')\n",
    "yo_test  = pd.read_pickle(f'DF/{estacion}/pkls/yo_test.pkl')"
   ]
  },
  {
   "cell_type": "markdown",
   "id": "d0a64e01",
   "metadata": {},
   "source": [
    "# Random forest"
   ]
  },
  {
   "cell_type": "code",
   "execution_count": 6,
   "id": "f473bafd",
   "metadata": {},
   "outputs": [
    {
     "name": "stdout",
     "output_type": "stream",
     "text": [
      ">random_forest_Originales\n",
      "depth: 1 R2: 0.604\t MSE:302.541\tRMSE:17.394\tMAE:12.710\tMAPE:1.762\n",
      "depth: 2 R2: 0.720\t MSE:214.089\tRMSE:14.632\tMAE:10.164\tMAPE:1.216\n",
      "depth: 3 R2: 0.752\t MSE:189.916\tRMSE:13.781\tMAE:9.335\tMAPE:0.985\n",
      "depth: 4 R2: 0.776\t MSE:171.238\tRMSE:13.086\tMAE:8.825\tMAPE:0.861\n",
      "depth: 5 R2: 0.791\t MSE:159.944\tRMSE:12.647\tMAE:8.486\tMAPE:0.794\n",
      "depth: 6 R2: 0.801\t MSE:152.475\tRMSE:12.348\tMAE:8.244\tMAPE:0.747\n",
      "depth: 7 R2: 0.807\t MSE:147.843\tRMSE:12.159\tMAE:8.093\tMAPE:0.721\n",
      "depth: 8 R2: 0.811\t MSE:144.245\tRMSE:12.010\tMAE:7.993\tMAPE:0.702\n",
      "depth: 9 R2: 0.814\t MSE:141.967\tRMSE:11.915\tMAE:7.933\tMAPE:0.693\n",
      "depth: 10 R2: 0.815\t MSE:141.588\tRMSE:11.899\tMAE:7.915\tMAPE:0.691\n",
      "depth: 11 R2: 0.817\t MSE:140.114\tRMSE:11.837\tMAE:7.883\tMAPE:0.686\n",
      "depth: 12 R2: 0.818\t MSE:139.305\tRMSE:11.803\tMAE:7.869\tMAPE:0.682\n",
      "depth: 13 R2: 0.818\t MSE:138.859\tRMSE:11.784\tMAE:7.832\tMAPE:0.679\n",
      "depth: 14 R2: 0.817\t MSE:139.781\tRMSE:11.823\tMAE:7.864\tMAPE:0.682\n",
      "depth: 15 R2: 0.819\t MSE:138.137\tRMSE:11.753\tMAE:7.814\tMAPE:0.681\n",
      "depth: 16 R2: 0.818\t MSE:139.544\tRMSE:11.813\tMAE:7.880\tMAPE:0.686\n",
      "depth: 17 R2: 0.818\t MSE:139.330\tRMSE:11.804\tMAE:7.882\tMAPE:0.684\n",
      "depth: 18 R2: 0.818\t MSE:139.110\tRMSE:11.794\tMAE:7.855\tMAPE:0.687\n",
      "depth: 19 R2: 0.819\t MSE:138.163\tRMSE:11.754\tMAE:7.826\tMAPE:0.682\n",
      "depth: 20 R2: 0.819\t MSE:138.641\tRMSE:11.775\tMAE:7.862\tMAPE:0.683\n"
     ]
    }
   ],
   "source": [
    "random_forest(Xo_train,yo_train,Xo_test,yo_test,save=True,mode='w',filename=f'evaluacion_{estacion}.txt')"
   ]
  },
  {
   "cell_type": "code",
   "execution_count": 7,
   "id": "9db30401",
   "metadata": {},
   "outputs": [
    {
     "name": "stdout",
     "output_type": "stream",
     "text": [
      ">random_forest_MinMax\n",
      "depth: 1 R2: 0.604\t MSE:302.541\tRMSE:17.394\tMAE:12.710\tMAPE:1.762\n",
      "depth: 2 R2: 0.720\t MSE:214.089\tRMSE:14.632\tMAE:10.164\tMAPE:1.216\n",
      "depth: 3 R2: 0.752\t MSE:189.916\tRMSE:13.781\tMAE:9.335\tMAPE:0.985\n",
      "depth: 4 R2: 0.776\t MSE:171.149\tRMSE:13.082\tMAE:8.824\tMAPE:0.861\n",
      "depth: 5 R2: 0.791\t MSE:159.921\tRMSE:12.646\tMAE:8.484\tMAPE:0.794\n",
      "depth: 6 R2: 0.801\t MSE:152.450\tRMSE:12.347\tMAE:8.243\tMAPE:0.747\n",
      "depth: 7 R2: 0.807\t MSE:147.735\tRMSE:12.155\tMAE:8.089\tMAPE:0.721\n",
      "depth: 8 R2: 0.812\t MSE:143.968\tRMSE:11.999\tMAE:7.984\tMAPE:0.702\n",
      "depth: 9 R2: 0.815\t MSE:141.617\tRMSE:11.900\tMAE:7.915\tMAPE:0.692\n",
      "depth: 10 R2: 0.816\t MSE:140.762\tRMSE:11.864\tMAE:7.890\tMAPE:0.688\n",
      "depth: 11 R2: 0.817\t MSE:140.096\tRMSE:11.836\tMAE:7.880\tMAPE:0.685\n",
      "depth: 12 R2: 0.817\t MSE:139.563\tRMSE:11.814\tMAE:7.862\tMAPE:0.681\n",
      "depth: 13 R2: 0.817\t MSE:139.569\tRMSE:11.814\tMAE:7.845\tMAPE:0.681\n",
      "depth: 14 R2: 0.818\t MSE:139.256\tRMSE:11.801\tMAE:7.843\tMAPE:0.682\n",
      "depth: 15 R2: 0.819\t MSE:138.687\tRMSE:11.777\tMAE:7.840\tMAPE:0.685\n",
      "depth: 16 R2: 0.818\t MSE:138.858\tRMSE:11.784\tMAE:7.826\tMAPE:0.682\n",
      "depth: 17 R2: 0.819\t MSE:138.631\tRMSE:11.774\tMAE:7.821\tMAPE:0.682\n",
      "depth: 18 R2: 0.818\t MSE:138.904\tRMSE:11.786\tMAE:7.836\tMAPE:0.681\n",
      "depth: 19 R2: 0.819\t MSE:138.105\tRMSE:11.752\tMAE:7.822\tMAPE:0.684\n",
      "depth: 20 R2: 0.819\t MSE:138.643\tRMSE:11.775\tMAE:7.834\tMAPE:0.681\n"
     ]
    }
   ],
   "source": [
    "random_forest(Xo_train,yo_train,Xo_test,yo_test,scaling='MinMax',save=True,filename=f'evaluacion_{estacion}.txt')"
   ]
  },
  {
   "cell_type": "code",
   "execution_count": 8,
   "id": "7d828b5b",
   "metadata": {},
   "outputs": [
    {
     "name": "stdout",
     "output_type": "stream",
     "text": [
      ">random_forest_Zscore\n",
      "depth: 1 R2: 0.604\t MSE:302.541\tRMSE:17.394\tMAE:12.710\tMAPE:1.762\n",
      "depth: 2 R2: 0.720\t MSE:214.089\tRMSE:14.632\tMAE:10.164\tMAPE:1.216\n",
      "depth: 3 R2: 0.752\t MSE:189.922\tRMSE:13.781\tMAE:9.335\tMAPE:0.985\n",
      "depth: 4 R2: 0.776\t MSE:171.205\tRMSE:13.085\tMAE:8.824\tMAPE:0.861\n",
      "depth: 5 R2: 0.791\t MSE:159.938\tRMSE:12.647\tMAE:8.485\tMAPE:0.794\n",
      "depth: 6 R2: 0.801\t MSE:152.418\tRMSE:12.346\tMAE:8.244\tMAPE:0.746\n",
      "depth: 7 R2: 0.807\t MSE:147.578\tRMSE:12.148\tMAE:8.084\tMAPE:0.720\n",
      "depth: 8 R2: 0.812\t MSE:144.054\tRMSE:12.002\tMAE:7.990\tMAPE:0.703\n",
      "depth: 9 R2: 0.815\t MSE:141.771\tRMSE:11.907\tMAE:7.918\tMAPE:0.691\n",
      "depth: 10 R2: 0.816\t MSE:140.594\tRMSE:11.857\tMAE:7.893\tMAPE:0.690\n",
      "depth: 11 R2: 0.817\t MSE:139.740\tRMSE:11.821\tMAE:7.876\tMAPE:0.686\n",
      "depth: 12 R2: 0.818\t MSE:139.132\tRMSE:11.795\tMAE:7.851\tMAPE:0.683\n",
      "depth: 13 R2: 0.818\t MSE:139.280\tRMSE:11.802\tMAE:7.834\tMAPE:0.681\n",
      "depth: 14 R2: 0.818\t MSE:139.029\tRMSE:11.791\tMAE:7.854\tMAPE:0.684\n",
      "depth: 15 R2: 0.818\t MSE:139.040\tRMSE:11.792\tMAE:7.831\tMAPE:0.680\n",
      "depth: 16 R2: 0.819\t MSE:138.681\tRMSE:11.776\tMAE:7.833\tMAPE:0.682\n",
      "depth: 17 R2: 0.819\t MSE:138.588\tRMSE:11.772\tMAE:7.848\tMAPE:0.687\n",
      "depth: 18 R2: 0.818\t MSE:138.929\tRMSE:11.787\tMAE:7.841\tMAPE:0.681\n",
      "depth: 19 R2: 0.819\t MSE:138.754\tRMSE:11.779\tMAE:7.837\tMAPE:0.684\n",
      "depth: 20 R2: 0.818\t MSE:139.459\tRMSE:11.809\tMAE:7.844\tMAPE:0.684\n"
     ]
    }
   ],
   "source": [
    "random_forest(Xo_train,yo_train,Xo_test,yo_test,scaling='Zscore',save=True,filename=f'evaluacion_{estacion}.txt')"
   ]
  },
  {
   "cell_type": "markdown",
   "id": "11dda641",
   "metadata": {},
   "source": [
    "# KNN"
   ]
  },
  {
   "cell_type": "code",
   "execution_count": 9,
   "id": "35fd32d2",
   "metadata": {},
   "outputs": [
    {
     "name": "stdout",
     "output_type": "stream",
     "text": [
      ">k_nearest_neighbor_Originales\n",
      "n_neighbors: 1 R2: 0.524\t MSE:363.642\tRMSE:19.069\tMAE:12.475\tMAPE:1.079\n",
      "n_neighbors: 2 R2: 0.652\t MSE:265.882\tRMSE:16.306\tMAE:11.028\tMAPE:1.034\n",
      "n_neighbors: 3 R2: 0.670\t MSE:252.332\tRMSE:15.885\tMAE:10.683\tMAPE:1.004\n",
      "n_neighbors: 4 R2: 0.687\t MSE:239.657\tRMSE:15.481\tMAE:10.415\tMAPE:1.019\n",
      "n_neighbors: 5 R2: 0.698\t MSE:230.724\tRMSE:15.190\tMAE:10.294\tMAPE:1.001\n",
      "n_neighbors: 6 R2: 0.711\t MSE:221.198\tRMSE:14.873\tMAE:10.069\tMAPE:0.995\n",
      "n_neighbors: 7 R2: 0.720\t MSE:213.981\tRMSE:14.628\tMAE:9.854\tMAPE:0.986\n",
      "n_neighbors: 8 R2: 0.724\t MSE:210.700\tRMSE:14.516\tMAE:9.830\tMAPE:0.992\n",
      "n_neighbors: 9 R2: 0.725\t MSE:210.313\tRMSE:14.502\tMAE:9.805\tMAPE:0.991\n",
      "n_neighbors: 10 R2: 0.727\t MSE:208.563\tRMSE:14.442\tMAE:9.764\tMAPE:0.984\n",
      "n_neighbors: 11 R2: 0.731\t MSE:205.368\tRMSE:14.331\tMAE:9.721\tMAPE:0.997\n",
      "n_neighbors: 12 R2: 0.732\t MSE:204.565\tRMSE:14.303\tMAE:9.721\tMAPE:0.997\n",
      "n_neighbors: 13 R2: 0.731\t MSE:205.785\tRMSE:14.345\tMAE:9.738\tMAPE:1.002\n",
      "n_neighbors: 14 R2: 0.732\t MSE:205.066\tRMSE:14.320\tMAE:9.731\tMAPE:0.992\n",
      "n_neighbors: 15 R2: 0.732\t MSE:204.779\tRMSE:14.310\tMAE:9.758\tMAPE:1.009\n",
      "n_neighbors: 16 R2: 0.730\t MSE:206.140\tRMSE:14.358\tMAE:9.829\tMAPE:1.014\n",
      "n_neighbors: 17 R2: 0.733\t MSE:203.832\tRMSE:14.277\tMAE:9.772\tMAPE:1.019\n",
      "n_neighbors: 18 R2: 0.735\t MSE:202.274\tRMSE:14.222\tMAE:9.722\tMAPE:1.012\n",
      "n_neighbors: 19 R2: 0.734\t MSE:203.549\tRMSE:14.267\tMAE:9.750\tMAPE:1.021\n",
      "n_neighbors: 20 R2: 0.733\t MSE:204.021\tRMSE:14.284\tMAE:9.762\tMAPE:1.032\n"
     ]
    }
   ],
   "source": [
    "k_nearest_neighbor(Xo_train,yo_train,Xo_test,yo_test,save=True,filename=f'evaluacion_{estacion}.txt')"
   ]
  },
  {
   "cell_type": "code",
   "execution_count": 10,
   "id": "f4751100",
   "metadata": {},
   "outputs": [
    {
     "name": "stdout",
     "output_type": "stream",
     "text": [
      ">k_nearest_neighbor_MinMax\n",
      "n_neighbors: 1 R2: 0.706\t MSE:224.871\tRMSE:14.996\tMAE:9.478\tMAPE:0.691\n",
      "n_neighbors: 2 R2: 0.769\t MSE:176.698\tRMSE:13.293\tMAE:8.504\tMAPE:0.654\n",
      "n_neighbors: 3 R2: 0.780\t MSE:168.062\tRMSE:12.964\tMAE:8.370\tMAPE:0.641\n",
      "n_neighbors: 4 R2: 0.785\t MSE:164.776\tRMSE:12.836\tMAE:8.455\tMAPE:0.680\n",
      "n_neighbors: 5 R2: 0.778\t MSE:170.052\tRMSE:13.040\tMAE:8.585\tMAPE:0.684\n",
      "n_neighbors: 6 R2: 0.781\t MSE:167.834\tRMSE:12.955\tMAE:8.553\tMAPE:0.706\n",
      "n_neighbors: 7 R2: 0.780\t MSE:168.429\tRMSE:12.978\tMAE:8.623\tMAPE:0.730\n",
      "n_neighbors: 8 R2: 0.779\t MSE:169.368\tRMSE:13.014\tMAE:8.751\tMAPE:0.751\n",
      "n_neighbors: 9 R2: 0.775\t MSE:172.126\tRMSE:13.120\tMAE:8.840\tMAPE:0.766\n",
      "n_neighbors: 10 R2: 0.773\t MSE:173.715\tRMSE:13.180\tMAE:8.876\tMAPE:0.771\n",
      "n_neighbors: 11 R2: 0.776\t MSE:171.134\tRMSE:13.082\tMAE:8.816\tMAPE:0.773\n",
      "n_neighbors: 12 R2: 0.774\t MSE:172.592\tRMSE:13.137\tMAE:8.853\tMAPE:0.779\n",
      "n_neighbors: 13 R2: 0.774\t MSE:172.615\tRMSE:13.138\tMAE:8.833\tMAPE:0.785\n",
      "n_neighbors: 14 R2: 0.775\t MSE:172.288\tRMSE:13.126\tMAE:8.854\tMAPE:0.794\n",
      "n_neighbors: 15 R2: 0.775\t MSE:172.365\tRMSE:13.129\tMAE:8.862\tMAPE:0.802\n",
      "n_neighbors: 16 R2: 0.774\t MSE:172.887\tRMSE:13.149\tMAE:8.896\tMAPE:0.816\n",
      "n_neighbors: 17 R2: 0.774\t MSE:173.109\tRMSE:13.157\tMAE:8.926\tMAPE:0.819\n",
      "n_neighbors: 18 R2: 0.771\t MSE:175.194\tRMSE:13.236\tMAE:8.988\tMAPE:0.829\n",
      "n_neighbors: 19 R2: 0.769\t MSE:176.624\tRMSE:13.290\tMAE:9.051\tMAPE:0.842\n",
      "n_neighbors: 20 R2: 0.768\t MSE:177.665\tRMSE:13.329\tMAE:9.058\tMAPE:0.847\n"
     ]
    }
   ],
   "source": [
    "k_nearest_neighbor(Xo_train,yo_train,Xo_test,yo_test,scaling='MinMax',save=True,filename=f'evaluacion_{estacion}.txt')"
   ]
  },
  {
   "cell_type": "code",
   "execution_count": 11,
   "id": "05789436",
   "metadata": {},
   "outputs": [
    {
     "name": "stdout",
     "output_type": "stream",
     "text": [
      ">k_nearest_neighbor_Zscore\n",
      "n_neighbors: 1 R2: 0.690\t MSE:237.190\tRMSE:15.401\tMAE:9.873\tMAPE:0.765\n",
      "n_neighbors: 2 R2: 0.772\t MSE:174.584\tRMSE:13.213\tMAE:8.659\tMAPE:0.670\n",
      "n_neighbors: 3 R2: 0.775\t MSE:171.899\tRMSE:13.111\tMAE:8.590\tMAPE:0.684\n",
      "n_neighbors: 4 R2: 0.777\t MSE:170.223\tRMSE:13.047\tMAE:8.725\tMAPE:0.707\n",
      "n_neighbors: 5 R2: 0.775\t MSE:171.955\tRMSE:13.113\tMAE:8.759\tMAPE:0.738\n",
      "n_neighbors: 6 R2: 0.771\t MSE:175.071\tRMSE:13.231\tMAE:8.756\tMAPE:0.737\n",
      "n_neighbors: 7 R2: 0.774\t MSE:173.102\tRMSE:13.157\tMAE:8.778\tMAPE:0.758\n",
      "n_neighbors: 8 R2: 0.771\t MSE:174.831\tRMSE:13.222\tMAE:8.867\tMAPE:0.772\n",
      "n_neighbors: 9 R2: 0.770\t MSE:175.517\tRMSE:13.248\tMAE:8.929\tMAPE:0.791\n",
      "n_neighbors: 10 R2: 0.770\t MSE:175.904\tRMSE:13.263\tMAE:8.965\tMAPE:0.794\n",
      "n_neighbors: 11 R2: 0.766\t MSE:178.892\tRMSE:13.375\tMAE:9.012\tMAPE:0.810\n",
      "n_neighbors: 12 R2: 0.767\t MSE:177.877\tRMSE:13.337\tMAE:8.960\tMAPE:0.814\n",
      "n_neighbors: 13 R2: 0.765\t MSE:179.314\tRMSE:13.391\tMAE:9.043\tMAPE:0.824\n",
      "n_neighbors: 14 R2: 0.764\t MSE:180.319\tRMSE:13.428\tMAE:9.047\tMAPE:0.832\n",
      "n_neighbors: 15 R2: 0.763\t MSE:180.844\tRMSE:13.448\tMAE:9.079\tMAPE:0.843\n",
      "n_neighbors: 16 R2: 0.763\t MSE:181.030\tRMSE:13.455\tMAE:9.082\tMAPE:0.846\n",
      "n_neighbors: 17 R2: 0.763\t MSE:181.497\tRMSE:13.472\tMAE:9.098\tMAPE:0.855\n",
      "n_neighbors: 18 R2: 0.760\t MSE:183.270\tRMSE:13.538\tMAE:9.162\tMAPE:0.866\n",
      "n_neighbors: 19 R2: 0.760\t MSE:183.814\tRMSE:13.558\tMAE:9.189\tMAPE:0.873\n",
      "n_neighbors: 20 R2: 0.758\t MSE:184.805\tRMSE:13.594\tMAE:9.221\tMAPE:0.876\n"
     ]
    }
   ],
   "source": [
    "k_nearest_neighbor(Xo_train,yo_train,Xo_test,yo_test,scaling='Zscore',save=True,filename=f'evaluacion_{estacion}.txt')"
   ]
  },
  {
   "cell_type": "markdown",
   "id": "bf554e4f",
   "metadata": {},
   "source": [
    "# Support Vector Machine"
   ]
  },
  {
   "cell_type": "code",
   "execution_count": 12,
   "id": "9e0ffbfe",
   "metadata": {},
   "outputs": [
    {
     "name": "stdout",
     "output_type": "stream",
     "text": [
      ">support_vector_machine_Originales\n",
      "kernel: linear R2: 0.724\t MSE:211.340\tRMSE:14.538\tMAE:9.400\tMAPE:0.833\n",
      "kernel: poly   R2: 0.410\t MSE:450.974\tRMSE:21.236\tMAE:14.231\tMAPE:1.630\n",
      "kernel: rbf    R2: 0.670\t MSE:252.068\tRMSE:15.877\tMAE:10.414\tMAPE:1.033\n"
     ]
    }
   ],
   "source": [
    "support_vector_machine(Xo_train,yo_train,Xo_test,yo_test,save=True,filename=f'evaluacion_{estacion}.txt')"
   ]
  },
  {
   "cell_type": "code",
   "execution_count": 13,
   "id": "d7141c54",
   "metadata": {},
   "outputs": [
    {
     "name": "stdout",
     "output_type": "stream",
     "text": [
      ">support_vector_machine_MinMax\n",
      "kernel: linear R2: 0.726\t MSE:209.452\tRMSE:14.472\tMAE:10.195\tMAPE:1.351\n",
      "kernel: poly   R2: 0.736\t MSE:202.060\tRMSE:14.215\tMAE:10.347\tMAPE:1.395\n",
      "kernel: rbf    R2: 0.782\t MSE:166.420\tRMSE:12.900\tMAE:9.539\tMAPE:1.291\n"
     ]
    }
   ],
   "source": [
    "support_vector_machine(Xo_train,yo_train,Xo_test,yo_test,scaling='MinMax',save=True,filename=f'evaluacion_{estacion}.txt')"
   ]
  },
  {
   "cell_type": "code",
   "execution_count": 14,
   "id": "e9cbf205",
   "metadata": {},
   "outputs": [
    {
     "name": "stdout",
     "output_type": "stream",
     "text": [
      ">support_vector_machine_Zscore\n",
      "kernel: linear R2: 0.728\t MSE:207.912\tRMSE:14.419\tMAE:9.401\tMAPE:0.868\n",
      "kernel: poly   R2: 0.698\t MSE:230.955\tRMSE:15.197\tMAE:10.457\tMAPE:1.138\n",
      "kernel: rbf    R2: 0.783\t MSE:165.760\tRMSE:12.875\tMAE:8.414\tMAPE:0.705\n"
     ]
    }
   ],
   "source": [
    "support_vector_machine(Xo_train,yo_train,Xo_test,yo_test,scaling='Zscore',save=True,filename=f'evaluacion_{estacion}.txt')"
   ]
  },
  {
   "cell_type": "markdown",
   "id": "6737d030",
   "metadata": {},
   "source": [
    "# Gradient Boosting"
   ]
  },
  {
   "cell_type": "code",
   "execution_count": 15,
   "id": "f1f62825",
   "metadata": {},
   "outputs": [
    {
     "name": "stdout",
     "output_type": "stream",
     "text": [
      ">gradient_boosting_Originales\n",
      "depths: 1 R2: 0.775\t MSE:171.918\tRMSE:13.112\tMAE:8.896\tMAPE:0.917\n",
      "depths: 2 R2: 0.803\t MSE:150.978\tRMSE:12.287\tMAE:8.294\tMAPE:0.786\n",
      "depths: 3 R2: 0.820\t MSE:137.304\tRMSE:11.718\tMAE:7.872\tMAPE:0.682\n",
      "depths: 4 R2: 0.821\t MSE:137.072\tRMSE:11.708\tMAE:7.664\tMAPE:0.649\n",
      "depths: 5 R2: 0.820\t MSE:137.363\tRMSE:11.720\tMAE:7.691\tMAPE:0.641\n",
      "depths: 6 R2: 0.817\t MSE:139.831\tRMSE:11.825\tMAE:7.795\tMAPE:0.647\n",
      "depths: 7 R2: 0.816\t MSE:140.962\tRMSE:11.873\tMAE:7.732\tMAPE:0.633\n",
      "depths: 8 R2: 0.808\t MSE:146.568\tRMSE:12.107\tMAE:7.801\tMAPE:0.621\n",
      "depths: 9 R2: 0.802\t MSE:151.038\tRMSE:12.290\tMAE:7.912\tMAPE:0.626\n",
      "depths: 10 R2: 0.798\t MSE:154.156\tRMSE:12.416\tMAE:8.015\tMAPE:0.632\n",
      "depths: 11 R2: 0.784\t MSE:165.191\tRMSE:12.853\tMAE:8.212\tMAPE:0.638\n",
      "depths: 12 R2: 0.767\t MSE:177.978\tRMSE:13.341\tMAE:8.640\tMAPE:0.655\n",
      "depths: 13 R2: 0.755\t MSE:187.070\tRMSE:13.677\tMAE:8.765\tMAPE:0.650\n",
      "depths: 14 R2: 0.746\t MSE:194.520\tRMSE:13.947\tMAE:8.998\tMAPE:0.649\n",
      "depths: 15 R2: 0.715\t MSE:217.598\tRMSE:14.751\tMAE:9.336\tMAPE:0.659\n",
      "depths: 16 R2: 0.704\t MSE:226.198\tRMSE:15.040\tMAE:9.507\tMAPE:0.675\n",
      "depths: 17 R2: 0.684\t MSE:241.995\tRMSE:15.556\tMAE:9.828\tMAPE:0.688\n",
      "depths: 18 R2: 0.672\t MSE:251.034\tRMSE:15.844\tMAE:9.931\tMAPE:0.676\n",
      "depths: 19 R2: 0.665\t MSE:255.897\tRMSE:15.997\tMAE:9.943\tMAPE:0.673\n",
      "depths: 20 R2: 0.664\t MSE:256.689\tRMSE:16.022\tMAE:10.039\tMAPE:0.671\n"
     ]
    }
   ],
   "source": [
    "gradient_boosting(Xo_train,yo_train,Xo_test,yo_test,save=True,filename=f'evaluacion_{estacion}.txt')"
   ]
  },
  {
   "cell_type": "code",
   "execution_count": 16,
   "id": "b433619a",
   "metadata": {},
   "outputs": [
    {
     "name": "stdout",
     "output_type": "stream",
     "text": [
      ">gradient_boosting_MinMax\n",
      "depths: 1 R2: 0.775\t MSE:171.918\tRMSE:13.112\tMAE:8.896\tMAPE:0.917\n",
      "depths: 2 R2: 0.802\t MSE:151.047\tRMSE:12.290\tMAE:8.297\tMAPE:0.786\n",
      "depths: 3 R2: 0.821\t MSE:137.194\tRMSE:11.713\tMAE:7.874\tMAPE:0.681\n",
      "depths: 4 R2: 0.821\t MSE:136.647\tRMSE:11.690\tMAE:7.655\tMAPE:0.649\n",
      "depths: 5 R2: 0.821\t MSE:136.945\tRMSE:11.702\tMAE:7.664\tMAPE:0.644\n",
      "depths: 6 R2: 0.817\t MSE:139.907\tRMSE:11.828\tMAE:7.776\tMAPE:0.641\n",
      "depths: 7 R2: 0.815\t MSE:141.795\tRMSE:11.908\tMAE:7.744\tMAPE:0.635\n",
      "depths: 8 R2: 0.809\t MSE:145.750\tRMSE:12.073\tMAE:7.753\tMAPE:0.622\n",
      "depths: 9 R2: 0.802\t MSE:151.065\tRMSE:12.291\tMAE:7.858\tMAPE:0.611\n",
      "depths: 10 R2: 0.797\t MSE:155.361\tRMSE:12.464\tMAE:8.017\tMAPE:0.630\n",
      "depths: 11 R2: 0.782\t MSE:166.564\tRMSE:12.906\tMAE:8.262\tMAPE:0.631\n",
      "depths: 12 R2: 0.770\t MSE:176.192\tRMSE:13.274\tMAE:8.598\tMAPE:0.643\n",
      "depths: 13 R2: 0.759\t MSE:184.350\tRMSE:13.578\tMAE:8.754\tMAPE:0.643\n",
      "depths: 14 R2: 0.742\t MSE:196.966\tRMSE:14.034\tMAE:9.004\tMAPE:0.643\n",
      "depths: 15 R2: 0.709\t MSE:222.823\tRMSE:14.927\tMAE:9.411\tMAPE:0.662\n",
      "depths: 16 R2: 0.695\t MSE:233.034\tRMSE:15.265\tMAE:9.607\tMAPE:0.682\n",
      "depths: 17 R2: 0.681\t MSE:243.838\tRMSE:15.615\tMAE:9.823\tMAPE:0.685\n",
      "depths: 18 R2: 0.666\t MSE:255.752\tRMSE:15.992\tMAE:10.034\tMAPE:0.688\n",
      "depths: 19 R2: 0.666\t MSE:255.551\tRMSE:15.986\tMAE:9.935\tMAPE:0.671\n",
      "depths: 20 R2: 0.657\t MSE:262.266\tRMSE:16.195\tMAE:10.014\tMAPE:0.666\n"
     ]
    }
   ],
   "source": [
    "gradient_boosting(Xo_train,yo_train,Xo_test,yo_test,scaling='MinMax',save=True,filename=f'evaluacion_{estacion}.txt')"
   ]
  },
  {
   "cell_type": "code",
   "execution_count": 17,
   "id": "2783c792",
   "metadata": {},
   "outputs": [
    {
     "name": "stdout",
     "output_type": "stream",
     "text": [
      ">gradient_boosting_Zscore\n",
      "depths: 1 R2: 0.775\t MSE:171.918\tRMSE:13.112\tMAE:8.896\tMAPE:0.917\n",
      "depths: 2 R2: 0.803\t MSE:150.983\tRMSE:12.287\tMAE:8.295\tMAPE:0.786\n",
      "depths: 3 R2: 0.820\t MSE:137.350\tRMSE:11.720\tMAE:7.873\tMAPE:0.683\n",
      "depths: 4 R2: 0.821\t MSE:137.041\tRMSE:11.706\tMAE:7.668\tMAPE:0.647\n",
      "depths: 5 R2: 0.821\t MSE:137.110\tRMSE:11.709\tMAE:7.682\tMAPE:0.641\n",
      "depths: 6 R2: 0.818\t MSE:138.986\tRMSE:11.789\tMAE:7.798\tMAPE:0.647\n",
      "depths: 7 R2: 0.810\t MSE:145.572\tRMSE:12.065\tMAE:7.852\tMAPE:0.619\n",
      "depths: 8 R2: 0.805\t MSE:149.086\tRMSE:12.210\tMAE:7.861\tMAPE:0.636\n",
      "depths: 9 R2: 0.803\t MSE:150.504\tRMSE:12.268\tMAE:7.935\tMAPE:0.622\n",
      "depths: 10 R2: 0.799\t MSE:153.864\tRMSE:12.404\tMAE:7.963\tMAPE:0.624\n",
      "depths: 11 R2: 0.780\t MSE:168.488\tRMSE:12.980\tMAE:8.250\tMAPE:0.634\n",
      "depths: 12 R2: 0.762\t MSE:182.271\tRMSE:13.501\tMAE:8.724\tMAPE:0.655\n",
      "depths: 13 R2: 0.757\t MSE:185.833\tRMSE:13.632\tMAE:8.784\tMAPE:0.644\n",
      "depths: 14 R2: 0.747\t MSE:193.233\tRMSE:13.901\tMAE:8.934\tMAPE:0.639\n",
      "depths: 15 R2: 0.713\t MSE:219.556\tRMSE:14.817\tMAE:9.382\tMAPE:0.657\n",
      "depths: 16 R2: 0.701\t MSE:228.623\tRMSE:15.120\tMAE:9.500\tMAPE:0.670\n",
      "depths: 17 R2: 0.685\t MSE:241.155\tRMSE:15.529\tMAE:9.791\tMAPE:0.685\n",
      "depths: 18 R2: 0.665\t MSE:255.927\tRMSE:15.998\tMAE:10.018\tMAPE:0.678\n",
      "depths: 19 R2: 0.667\t MSE:254.931\tRMSE:15.967\tMAE:9.896\tMAPE:0.669\n",
      "depths: 20 R2: 0.662\t MSE:258.307\tRMSE:16.072\tMAE:9.997\tMAPE:0.668\n"
     ]
    }
   ],
   "source": [
    "gradient_boosting(Xo_train,yo_train,Xo_test,yo_test,scaling='Zscore',save=True,filename=f'evaluacion_{estacion}.txt')"
   ]
  }
 ],
 "metadata": {
  "kernelspec": {
   "display_name": "Python 3",
   "language": "python",
   "name": "python3"
  },
  "language_info": {
   "codemirror_mode": {
    "name": "ipython",
    "version": 3
   },
   "file_extension": ".py",
   "mimetype": "text/x-python",
   "name": "python",
   "nbconvert_exporter": "python",
   "pygments_lexer": "ipython3",
   "version": "3.8.8"
  }
 },
 "nbformat": 4,
 "nbformat_minor": 5
}
