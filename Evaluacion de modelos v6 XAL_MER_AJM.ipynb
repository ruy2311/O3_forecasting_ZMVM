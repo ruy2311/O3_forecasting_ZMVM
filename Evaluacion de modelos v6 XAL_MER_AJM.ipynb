{
 "cells": [
  {
   "cell_type": "code",
   "execution_count": 1,
   "id": "98bc8f2c",
   "metadata": {},
   "outputs": [],
   "source": [
    "import matplotlib.pyplot as plt\n",
    "import pandas as pd\n",
    "import numpy as np\n",
    "#import seaborn as sn\n",
    "#from ZMVM import indexByDate\n",
    "#from dmetrics import byDay,describe,plotHist\n",
    "from MET import *\n",
    "#from sklearn.tree import DecisionTreeRegressor \n",
    "#from sklearn.ensemble import RandomForestRegressor \n",
    "from sklearn.model_selection import train_test_split\n",
    "from sklearn.preprocessing import MinMaxScaler"
   ]
  },
  {
   "cell_type": "code",
   "execution_count": 2,
   "id": "7891bf61",
   "metadata": {},
   "outputs": [],
   "source": [
    "estacion='XAL_MER_AJM'"
   ]
  },
  {
   "cell_type": "code",
   "execution_count": 3,
   "id": "dfd39c6f",
   "metadata": {},
   "outputs": [],
   "source": [
    "Xo_train = pd.read_pickle(f'DF/{estacion}/pkls/Xo_train.pkl')\n",
    "yo_train = pd.read_pickle(f'DF/{estacion}/pkls/yo_train.pkl')\n",
    "Xo_test  = pd.read_pickle(f'DF/{estacion}/pkls/Xo_test.pkl')\n",
    "yo_test  = pd.read_pickle(f'DF/{estacion}/pkls/yo_test.pkl')"
   ]
  },
  {
   "cell_type": "markdown",
   "id": "d0a64e01",
   "metadata": {},
   "source": [
    "# Random forest"
   ]
  },
  {
   "cell_type": "code",
   "execution_count": 4,
   "id": "f473bafd",
   "metadata": {},
   "outputs": [
    {
     "name": "stdout",
     "output_type": "stream",
     "text": [
      ">random_forest_Originales\n",
      "depth: 1 R2: 0.518\t MSE:303.988\tRMSE:17.435\tMAE:13.300\tMAPE:1.687\n",
      "depth: 2 R2: 0.655\t MSE:217.372\tRMSE:14.744\tMAE:10.874\tMAPE:1.175\n",
      "depth: 3 R2: 0.686\t MSE:197.857\tRMSE:14.066\tMAE:10.087\tMAPE:0.973\n",
      "depth: 4 R2: 0.714\t MSE:180.310\tRMSE:13.428\tMAE:9.593\tMAPE:0.896\n",
      "depth: 5 R2: 0.732\t MSE:168.920\tRMSE:12.997\tMAE:9.259\tMAPE:0.842\n",
      "depth: 6 R2: 0.743\t MSE:161.765\tRMSE:12.719\tMAE:9.059\tMAPE:0.817\n",
      "depth: 7 R2: 0.752\t MSE:156.208\tRMSE:12.498\tMAE:8.898\tMAPE:0.793\n",
      "depth: 8 R2: 0.758\t MSE:152.475\tRMSE:12.348\tMAE:8.780\tMAPE:0.777\n",
      "depth: 9 R2: 0.763\t MSE:149.479\tRMSE:12.226\tMAE:8.681\tMAPE:0.762\n",
      "depth: 10 R2: 0.768\t MSE:146.431\tRMSE:12.101\tMAE:8.591\tMAPE:0.751\n",
      "depth: 11 R2: 0.770\t MSE:144.877\tRMSE:12.036\tMAE:8.540\tMAPE:0.743\n",
      "depth: 12 R2: 0.772\t MSE:143.820\tRMSE:11.993\tMAE:8.495\tMAPE:0.737\n",
      "depth: 13 R2: 0.773\t MSE:143.066\tRMSE:11.961\tMAE:8.460\tMAPE:0.733\n",
      "depth: 14 R2: 0.774\t MSE:142.624\tRMSE:11.943\tMAE:8.439\tMAPE:0.732\n",
      "depth: 15 R2: 0.774\t MSE:142.425\tRMSE:11.934\tMAE:8.435\tMAPE:0.733\n",
      "depth: 16 R2: 0.774\t MSE:142.754\tRMSE:11.948\tMAE:8.436\tMAPE:0.735\n",
      "depth: 17 R2: 0.774\t MSE:142.433\tRMSE:11.935\tMAE:8.423\tMAPE:0.733\n",
      "depth: 18 R2: 0.774\t MSE:142.481\tRMSE:11.937\tMAE:8.418\tMAPE:0.733\n",
      "depth: 19 R2: 0.774\t MSE:142.360\tRMSE:11.931\tMAE:8.420\tMAPE:0.734\n",
      "depth: 20 R2: 0.774\t MSE:142.575\tRMSE:11.940\tMAE:8.416\tMAPE:0.734\n"
     ]
    }
   ],
   "source": [
    "random_forest(Xo_train,yo_train,Xo_test,yo_test,save=True,mode='w',filename=f'evaluacion_{estacion}.txt')"
   ]
  },
  {
   "cell_type": "code",
   "execution_count": 5,
   "id": "9db30401",
   "metadata": {},
   "outputs": [
    {
     "name": "stdout",
     "output_type": "stream",
     "text": [
      ">random_forest_MinMax\n",
      "depth: 1 R2: 0.518\t MSE:303.988\tRMSE:17.435\tMAE:13.300\tMAPE:1.687\n",
      "depth: 2 R2: 0.655\t MSE:217.372\tRMSE:14.744\tMAE:10.874\tMAPE:1.175\n",
      "depth: 3 R2: 0.686\t MSE:197.857\tRMSE:14.066\tMAE:10.087\tMAPE:0.973\n",
      "depth: 4 R2: 0.714\t MSE:180.310\tRMSE:13.428\tMAE:9.593\tMAPE:0.896\n",
      "depth: 5 R2: 0.732\t MSE:168.923\tRMSE:12.997\tMAE:9.259\tMAPE:0.842\n",
      "depth: 6 R2: 0.743\t MSE:161.734\tRMSE:12.717\tMAE:9.059\tMAPE:0.817\n",
      "depth: 7 R2: 0.752\t MSE:156.266\tRMSE:12.501\tMAE:8.899\tMAPE:0.793\n",
      "depth: 8 R2: 0.758\t MSE:152.421\tRMSE:12.346\tMAE:8.778\tMAPE:0.776\n",
      "depth: 9 R2: 0.763\t MSE:149.519\tRMSE:12.228\tMAE:8.683\tMAPE:0.762\n",
      "depth: 10 R2: 0.767\t MSE:146.781\tRMSE:12.115\tMAE:8.596\tMAPE:0.751\n",
      "depth: 11 R2: 0.770\t MSE:145.155\tRMSE:12.048\tMAE:8.547\tMAPE:0.744\n",
      "depth: 12 R2: 0.772\t MSE:143.928\tRMSE:11.997\tMAE:8.498\tMAPE:0.738\n",
      "depth: 13 R2: 0.772\t MSE:143.445\tRMSE:11.977\tMAE:8.473\tMAPE:0.734\n",
      "depth: 14 R2: 0.773\t MSE:142.892\tRMSE:11.954\tMAE:8.450\tMAPE:0.734\n",
      "depth: 15 R2: 0.774\t MSE:142.156\tRMSE:11.923\tMAE:8.422\tMAPE:0.732\n",
      "depth: 16 R2: 0.775\t MSE:142.001\tRMSE:11.916\tMAE:8.415\tMAPE:0.734\n",
      "depth: 17 R2: 0.775\t MSE:141.830\tRMSE:11.909\tMAE:8.405\tMAPE:0.733\n",
      "depth: 18 R2: 0.774\t MSE:142.500\tRMSE:11.937\tMAE:8.420\tMAPE:0.734\n",
      "depth: 19 R2: 0.774\t MSE:142.156\tRMSE:11.923\tMAE:8.411\tMAPE:0.733\n",
      "depth: 20 R2: 0.774\t MSE:142.678\tRMSE:11.945\tMAE:8.424\tMAPE:0.735\n"
     ]
    }
   ],
   "source": [
    "random_forest(Xo_train,yo_train,Xo_test,yo_test,scaling='MinMax',save=True,filename=f'evaluacion_{estacion}.txt')"
   ]
  },
  {
   "cell_type": "code",
   "execution_count": 6,
   "id": "7d828b5b",
   "metadata": {},
   "outputs": [
    {
     "name": "stdout",
     "output_type": "stream",
     "text": [
      ">random_forest_Zscore\n",
      "depth: 1 R2: 0.518\t MSE:303.988\tRMSE:17.435\tMAE:13.300\tMAPE:1.687\n",
      "depth: 2 R2: 0.655\t MSE:217.372\tRMSE:14.744\tMAE:10.874\tMAPE:1.175\n",
      "depth: 3 R2: 0.686\t MSE:197.857\tRMSE:14.066\tMAE:10.087\tMAPE:0.973\n",
      "depth: 4 R2: 0.714\t MSE:180.309\tRMSE:13.428\tMAE:9.593\tMAPE:0.896\n",
      "depth: 5 R2: 0.732\t MSE:168.949\tRMSE:12.998\tMAE:9.260\tMAPE:0.842\n",
      "depth: 6 R2: 0.743\t MSE:161.724\tRMSE:12.717\tMAE:9.060\tMAPE:0.817\n",
      "depth: 7 R2: 0.752\t MSE:156.253\tRMSE:12.500\tMAE:8.900\tMAPE:0.793\n",
      "depth: 8 R2: 0.758\t MSE:152.562\tRMSE:12.352\tMAE:8.781\tMAPE:0.777\n",
      "depth: 9 R2: 0.763\t MSE:149.449\tRMSE:12.225\tMAE:8.680\tMAPE:0.763\n",
      "depth: 10 R2: 0.768\t MSE:146.563\tRMSE:12.106\tMAE:8.594\tMAPE:0.750\n",
      "depth: 11 R2: 0.769\t MSE:145.398\tRMSE:12.058\tMAE:8.551\tMAPE:0.743\n",
      "depth: 12 R2: 0.772\t MSE:143.502\tRMSE:11.979\tMAE:8.490\tMAPE:0.738\n",
      "depth: 13 R2: 0.773\t MSE:142.969\tRMSE:11.957\tMAE:8.458\tMAPE:0.733\n",
      "depth: 14 R2: 0.775\t MSE:142.065\tRMSE:11.919\tMAE:8.439\tMAPE:0.732\n",
      "depth: 15 R2: 0.774\t MSE:142.210\tRMSE:11.925\tMAE:8.428\tMAPE:0.731\n",
      "depth: 16 R2: 0.775\t MSE:141.810\tRMSE:11.908\tMAE:8.408\tMAPE:0.731\n",
      "depth: 17 R2: 0.774\t MSE:142.385\tRMSE:11.933\tMAE:8.423\tMAPE:0.733\n",
      "depth: 18 R2: 0.773\t MSE:142.843\tRMSE:11.952\tMAE:8.431\tMAPE:0.733\n",
      "depth: 19 R2: 0.774\t MSE:142.315\tRMSE:11.930\tMAE:8.414\tMAPE:0.735\n",
      "depth: 20 R2: 0.775\t MSE:141.939\tRMSE:11.914\tMAE:8.405\tMAPE:0.734\n"
     ]
    }
   ],
   "source": [
    "random_forest(Xo_train,yo_train,Xo_test,yo_test,scaling='Zscore',save=True,filename=f'evaluacion_{estacion}.txt')"
   ]
  },
  {
   "cell_type": "markdown",
   "id": "11dda641",
   "metadata": {},
   "source": [
    "# KNN"
   ]
  },
  {
   "cell_type": "code",
   "execution_count": 7,
   "id": "35fd32d2",
   "metadata": {},
   "outputs": [
    {
     "name": "stdout",
     "output_type": "stream",
     "text": [
      ">k_nearest_neighbor_Originales\n",
      "n_neighbors: 1 R2: 0.466\t MSE:336.732\tRMSE:18.350\tMAE:12.713\tMAPE:0.910\n",
      "n_neighbors: 2 R2: 0.604\t MSE:249.337\tRMSE:15.790\tMAE:11.117\tMAPE:0.893\n",
      "n_neighbors: 3 R2: 0.645\t MSE:223.975\tRMSE:14.966\tMAE:10.518\tMAPE:0.901\n",
      "n_neighbors: 4 R2: 0.665\t MSE:210.877\tRMSE:14.522\tMAE:10.335\tMAPE:0.904\n",
      "n_neighbors: 5 R2: 0.673\t MSE:206.297\tRMSE:14.363\tMAE:10.193\tMAPE:0.903\n",
      "n_neighbors: 6 R2: 0.678\t MSE:202.733\tRMSE:14.238\tMAE:10.142\tMAPE:0.906\n",
      "n_neighbors: 7 R2: 0.686\t MSE:198.037\tRMSE:14.073\tMAE:10.006\tMAPE:0.903\n",
      "n_neighbors: 8 R2: 0.692\t MSE:194.464\tRMSE:13.945\tMAE:9.923\tMAPE:0.905\n",
      "n_neighbors: 9 R2: 0.692\t MSE:193.925\tRMSE:13.926\tMAE:9.933\tMAPE:0.907\n",
      "n_neighbors: 10 R2: 0.694\t MSE:193.036\tRMSE:13.894\tMAE:9.931\tMAPE:0.911\n",
      "n_neighbors: 11 R2: 0.693\t MSE:193.333\tRMSE:13.904\tMAE:9.940\tMAPE:0.916\n",
      "n_neighbors: 12 R2: 0.694\t MSE:192.620\tRMSE:13.879\tMAE:9.930\tMAPE:0.914\n",
      "n_neighbors: 13 R2: 0.695\t MSE:192.500\tRMSE:13.874\tMAE:9.936\tMAPE:0.915\n",
      "n_neighbors: 14 R2: 0.695\t MSE:192.303\tRMSE:13.867\tMAE:9.946\tMAPE:0.920\n",
      "n_neighbors: 15 R2: 0.695\t MSE:192.400\tRMSE:13.871\tMAE:9.939\tMAPE:0.924\n",
      "n_neighbors: 16 R2: 0.694\t MSE:193.015\tRMSE:13.893\tMAE:9.945\tMAPE:0.928\n",
      "n_neighbors: 17 R2: 0.694\t MSE:192.635\tRMSE:13.879\tMAE:9.948\tMAPE:0.932\n",
      "n_neighbors: 18 R2: 0.695\t MSE:192.549\tRMSE:13.876\tMAE:9.937\tMAPE:0.932\n",
      "n_neighbors: 19 R2: 0.695\t MSE:192.141\tRMSE:13.861\tMAE:9.931\tMAPE:0.933\n",
      "n_neighbors: 20 R2: 0.696\t MSE:191.424\tRMSE:13.836\tMAE:9.915\tMAPE:0.934\n"
     ]
    }
   ],
   "source": [
    "k_nearest_neighbor(Xo_train,yo_train,Xo_test,yo_test,save=True,filename=f'evaluacion_{estacion}.txt')"
   ]
  },
  {
   "cell_type": "code",
   "execution_count": 8,
   "id": "f4751100",
   "metadata": {},
   "outputs": [
    {
     "name": "stdout",
     "output_type": "stream",
     "text": [
      ">k_nearest_neighbor_MinMax\n",
      "n_neighbors: 1 R2: 0.667\t MSE:210.182\tRMSE:14.498\tMAE:9.650\tMAPE:0.627\n",
      "n_neighbors: 2 R2: 0.749\t MSE:158.535\tRMSE:12.591\tMAE:8.569\tMAPE:0.618\n",
      "n_neighbors: 3 R2: 0.759\t MSE:151.883\tRMSE:12.324\tMAE:8.514\tMAPE:0.647\n",
      "n_neighbors: 4 R2: 0.766\t MSE:147.471\tRMSE:12.144\tMAE:8.473\tMAPE:0.661\n",
      "n_neighbors: 5 R2: 0.771\t MSE:144.522\tRMSE:12.022\tMAE:8.431\tMAPE:0.672\n",
      "n_neighbors: 6 R2: 0.771\t MSE:144.456\tRMSE:12.019\tMAE:8.421\tMAPE:0.682\n",
      "n_neighbors: 7 R2: 0.767\t MSE:147.060\tRMSE:12.127\tMAE:8.533\tMAPE:0.700\n",
      "n_neighbors: 8 R2: 0.764\t MSE:148.811\tRMSE:12.199\tMAE:8.572\tMAPE:0.710\n",
      "n_neighbors: 9 R2: 0.762\t MSE:150.232\tRMSE:12.257\tMAE:8.607\tMAPE:0.715\n",
      "n_neighbors: 10 R2: 0.760\t MSE:151.020\tRMSE:12.289\tMAE:8.652\tMAPE:0.725\n",
      "n_neighbors: 11 R2: 0.759\t MSE:152.227\tRMSE:12.338\tMAE:8.699\tMAPE:0.736\n",
      "n_neighbors: 12 R2: 0.756\t MSE:153.534\tRMSE:12.391\tMAE:8.736\tMAPE:0.745\n",
      "n_neighbors: 13 R2: 0.754\t MSE:155.101\tRMSE:12.454\tMAE:8.779\tMAPE:0.752\n",
      "n_neighbors: 14 R2: 0.753\t MSE:155.806\tRMSE:12.482\tMAE:8.797\tMAPE:0.756\n",
      "n_neighbors: 15 R2: 0.751\t MSE:156.710\tRMSE:12.518\tMAE:8.816\tMAPE:0.759\n",
      "n_neighbors: 16 R2: 0.750\t MSE:157.581\tRMSE:12.553\tMAE:8.849\tMAPE:0.765\n",
      "n_neighbors: 17 R2: 0.750\t MSE:157.669\tRMSE:12.557\tMAE:8.854\tMAPE:0.769\n",
      "n_neighbors: 18 R2: 0.750\t MSE:157.902\tRMSE:12.566\tMAE:8.870\tMAPE:0.775\n",
      "n_neighbors: 19 R2: 0.749\t MSE:158.034\tRMSE:12.571\tMAE:8.880\tMAPE:0.779\n",
      "n_neighbors: 20 R2: 0.746\t MSE:160.152\tRMSE:12.655\tMAE:8.947\tMAPE:0.786\n"
     ]
    }
   ],
   "source": [
    "k_nearest_neighbor(Xo_train,yo_train,Xo_test,yo_test,scaling='MinMax',save=True,filename=f'evaluacion_{estacion}.txt')"
   ]
  },
  {
   "cell_type": "code",
   "execution_count": 9,
   "id": "05789436",
   "metadata": {},
   "outputs": [
    {
     "name": "stdout",
     "output_type": "stream",
     "text": [
      ">k_nearest_neighbor_Zscore\n",
      "n_neighbors: 1 R2: 0.644\t MSE:224.422\tRMSE:14.981\tMAE:9.981\tMAPE:0.675\n",
      "n_neighbors: 2 R2: 0.713\t MSE:181.029\tRMSE:13.455\tMAE:9.241\tMAPE:0.682\n",
      "n_neighbors: 3 R2: 0.730\t MSE:170.195\tRMSE:13.046\tMAE:9.026\tMAPE:0.685\n",
      "n_neighbors: 4 R2: 0.742\t MSE:162.761\tRMSE:12.758\tMAE:8.939\tMAPE:0.699\n",
      "n_neighbors: 5 R2: 0.744\t MSE:161.547\tRMSE:12.710\tMAE:8.923\tMAPE:0.713\n",
      "n_neighbors: 6 R2: 0.745\t MSE:160.656\tRMSE:12.675\tMAE:8.904\tMAPE:0.726\n",
      "n_neighbors: 7 R2: 0.745\t MSE:160.652\tRMSE:12.675\tMAE:8.901\tMAPE:0.732\n",
      "n_neighbors: 8 R2: 0.746\t MSE:160.129\tRMSE:12.654\tMAE:8.929\tMAPE:0.744\n",
      "n_neighbors: 9 R2: 0.748\t MSE:159.004\tRMSE:12.610\tMAE:8.892\tMAPE:0.747\n",
      "n_neighbors: 10 R2: 0.746\t MSE:160.405\tRMSE:12.665\tMAE:8.912\tMAPE:0.759\n",
      "n_neighbors: 11 R2: 0.745\t MSE:160.829\tRMSE:12.682\tMAE:8.944\tMAPE:0.764\n",
      "n_neighbors: 12 R2: 0.744\t MSE:161.534\tRMSE:12.710\tMAE:8.951\tMAPE:0.767\n",
      "n_neighbors: 13 R2: 0.742\t MSE:162.708\tRMSE:12.756\tMAE:8.973\tMAPE:0.773\n",
      "n_neighbors: 14 R2: 0.740\t MSE:164.202\tRMSE:12.814\tMAE:9.015\tMAPE:0.779\n",
      "n_neighbors: 15 R2: 0.738\t MSE:165.318\tRMSE:12.858\tMAE:9.028\tMAPE:0.782\n",
      "n_neighbors: 16 R2: 0.736\t MSE:166.110\tRMSE:12.888\tMAE:9.062\tMAPE:0.788\n",
      "n_neighbors: 17 R2: 0.735\t MSE:166.893\tRMSE:12.919\tMAE:9.092\tMAPE:0.792\n",
      "n_neighbors: 18 R2: 0.736\t MSE:166.580\tRMSE:12.907\tMAE:9.109\tMAPE:0.795\n",
      "n_neighbors: 19 R2: 0.735\t MSE:166.775\tRMSE:12.914\tMAE:9.105\tMAPE:0.798\n",
      "n_neighbors: 20 R2: 0.734\t MSE:167.749\tRMSE:12.952\tMAE:9.115\tMAPE:0.799\n"
     ]
    }
   ],
   "source": [
    "k_nearest_neighbor(Xo_train,yo_train,Xo_test,yo_test,scaling='Zscore',save=True,filename=f'evaluacion_{estacion}.txt')"
   ]
  },
  {
   "cell_type": "markdown",
   "id": "bf554e4f",
   "metadata": {},
   "source": [
    "# Support Vector Machine"
   ]
  },
  {
   "cell_type": "code",
   "execution_count": 10,
   "id": "9e0ffbfe",
   "metadata": {},
   "outputs": [
    {
     "name": "stdout",
     "output_type": "stream",
     "text": [
      ">support_vector_machine_Originales\n",
      "kernel: linear R2: 0.670\t MSE:207.725\tRMSE:14.413\tMAE:9.873\tMAPE:0.729\n",
      "kernel: poly   R2: 0.501\t MSE:314.682\tRMSE:17.739\tMAE:12.425\tMAPE:1.196\n",
      "kernel: rbf    R2: 0.668\t MSE:209.343\tRMSE:14.469\tMAE:10.030\tMAPE:0.808\n"
     ]
    }
   ],
   "source": [
    "support_vector_machine(Xo_train,yo_train,Xo_test,yo_test,save=True,filename=f'evaluacion_{estacion}.txt')"
   ]
  },
  {
   "cell_type": "code",
   "execution_count": 11,
   "id": "d7141c54",
   "metadata": {},
   "outputs": [
    {
     "name": "stdout",
     "output_type": "stream",
     "text": [
      ">support_vector_machine_MinMax\n",
      "kernel: linear R2: 0.670\t MSE:208.304\tRMSE:14.433\tMAE:10.705\tMAPE:1.221\n",
      "kernel: poly   R2: 0.700\t MSE:189.423\tRMSE:13.763\tMAE:10.275\tMAPE:1.168\n",
      "kernel: rbf    R2: 0.741\t MSE:163.110\tRMSE:12.771\tMAE:9.685\tMAPE:1.183\n"
     ]
    }
   ],
   "source": [
    "support_vector_machine(Xo_train,yo_train,Xo_test,yo_test,scaling='MinMax',save=True,filename=f'evaluacion_{estacion}.txt')"
   ]
  },
  {
   "cell_type": "code",
   "execution_count": 12,
   "id": "e9cbf205",
   "metadata": {},
   "outputs": [
    {
     "name": "stdout",
     "output_type": "stream",
     "text": [
      ">support_vector_machine_Zscore\n",
      "kernel: linear R2: 0.674\t MSE:205.691\tRMSE:14.342\tMAE:9.885\tMAPE:0.779\n",
      "kernel: poly   R2: 0.643\t MSE:225.343\tRMSE:15.011\tMAE:10.591\tMAPE:0.948\n",
      "kernel: rbf    R2: 0.753\t MSE:155.743\tRMSE:12.480\tMAE:8.602\tMAPE:0.678\n"
     ]
    }
   ],
   "source": [
    "support_vector_machine(Xo_train,yo_train,Xo_test,yo_test,scaling='Zscore',save=True,filename=f'evaluacion_{estacion}.txt')"
   ]
  },
  {
   "cell_type": "markdown",
   "id": "6737d030",
   "metadata": {},
   "source": [
    "# Gradient Boosting"
   ]
  },
  {
   "cell_type": "code",
   "execution_count": 13,
   "id": "f1f62825",
   "metadata": {},
   "outputs": [
    {
     "name": "stdout",
     "output_type": "stream",
     "text": [
      ">gradient_boosting_Originales\n",
      "depths: 1 R2: 0.728\t MSE:171.311\tRMSE:13.089\tMAE:9.340\tMAPE:0.861\n",
      "depths: 2 R2: 0.756\t MSE:153.637\tRMSE:12.395\tMAE:8.855\tMAPE:0.807\n",
      "depths: 3 R2: 0.767\t MSE:146.812\tRMSE:12.117\tMAE:8.591\tMAPE:0.768\n",
      "depths: 4 R2: 0.779\t MSE:139.189\tRMSE:11.798\tMAE:8.403\tMAPE:0.743\n",
      "depths: 5 R2: 0.783\t MSE:136.839\tRMSE:11.698\tMAE:8.268\tMAPE:0.720\n",
      "depths: 6 R2: 0.786\t MSE:134.598\tRMSE:11.602\tMAE:8.181\tMAPE:0.700\n",
      "depths: 7 R2: 0.781\t MSE:137.906\tRMSE:11.743\tMAE:8.227\tMAPE:0.691\n",
      "depths: 8 R2: 0.785\t MSE:135.849\tRMSE:11.655\tMAE:8.133\tMAPE:0.675\n",
      "depths: 9 R2: 0.777\t MSE:140.504\tRMSE:11.853\tMAE:8.245\tMAPE:0.681\n",
      "depths: 10 R2: 0.771\t MSE:144.074\tRMSE:12.003\tMAE:8.306\tMAPE:0.689\n",
      "depths: 11 R2: 0.766\t MSE:147.815\tRMSE:12.158\tMAE:8.415\tMAPE:0.693\n",
      "depths: 12 R2: 0.753\t MSE:155.920\tRMSE:12.487\tMAE:8.616\tMAPE:0.699\n",
      "depths: 13 R2: 0.734\t MSE:167.820\tRMSE:12.955\tMAE:8.803\tMAPE:0.723\n",
      "depths: 14 R2: 0.727\t MSE:171.830\tRMSE:13.108\tMAE:9.001\tMAPE:0.734\n",
      "depths: 15 R2: 0.704\t MSE:186.655\tRMSE:13.662\tMAE:9.292\tMAPE:0.753\n",
      "depths: 16 R2: 0.665\t MSE:211.144\tRMSE:14.531\tMAE:9.712\tMAPE:0.754\n",
      "depths: 17 R2: 0.631\t MSE:232.381\tRMSE:15.244\tMAE:10.094\tMAPE:0.786\n",
      "depths: 18 R2: 0.602\t MSE:250.628\tRMSE:15.831\tMAE:10.441\tMAPE:0.807\n",
      "depths: 19 R2: 0.581\t MSE:264.403\tRMSE:16.260\tMAE:10.823\tMAPE:0.827\n",
      "depths: 20 R2: 0.578\t MSE:266.085\tRMSE:16.312\tMAE:10.909\tMAPE:0.834\n"
     ]
    }
   ],
   "source": [
    "gradient_boosting(Xo_train,yo_train,Xo_test,yo_test,save=True,filename=f'evaluacion_{estacion}.txt')"
   ]
  },
  {
   "cell_type": "code",
   "execution_count": 14,
   "id": "b433619a",
   "metadata": {},
   "outputs": [
    {
     "name": "stdout",
     "output_type": "stream",
     "text": [
      ">gradient_boosting_MinMax\n",
      "depths: 1 R2: 0.728\t MSE:171.375\tRMSE:13.091\tMAE:9.341\tMAPE:0.861\n",
      "depths: 2 R2: 0.756\t MSE:153.894\tRMSE:12.405\tMAE:8.858\tMAPE:0.807\n",
      "depths: 3 R2: 0.766\t MSE:147.285\tRMSE:12.136\tMAE:8.594\tMAPE:0.768\n",
      "depths: 4 R2: 0.778\t MSE:139.762\tRMSE:11.822\tMAE:8.411\tMAPE:0.743\n",
      "depths: 5 R2: 0.782\t MSE:137.162\tRMSE:11.712\tMAE:8.271\tMAPE:0.720\n",
      "depths: 6 R2: 0.786\t MSE:134.900\tRMSE:11.615\tMAE:8.188\tMAPE:0.701\n",
      "depths: 7 R2: 0.780\t MSE:138.383\tRMSE:11.764\tMAE:8.230\tMAPE:0.691\n",
      "depths: 8 R2: 0.783\t MSE:136.504\tRMSE:11.683\tMAE:8.138\tMAPE:0.676\n",
      "depths: 9 R2: 0.777\t MSE:140.690\tRMSE:11.861\tMAE:8.283\tMAPE:0.679\n",
      "depths: 10 R2: 0.771\t MSE:144.266\tRMSE:12.011\tMAE:8.319\tMAPE:0.687\n",
      "depths: 11 R2: 0.762\t MSE:150.265\tRMSE:12.258\tMAE:8.488\tMAPE:0.695\n",
      "depths: 12 R2: 0.753\t MSE:155.523\tRMSE:12.471\tMAE:8.604\tMAPE:0.704\n",
      "depths: 13 R2: 0.735\t MSE:166.968\tRMSE:12.922\tMAE:8.767\tMAPE:0.722\n",
      "depths: 14 R2: 0.722\t MSE:175.291\tRMSE:13.240\tMAE:9.063\tMAPE:0.744\n",
      "depths: 15 R2: 0.701\t MSE:188.407\tRMSE:13.726\tMAE:9.333\tMAPE:0.755\n",
      "depths: 16 R2: 0.665\t MSE:211.050\tRMSE:14.528\tMAE:9.683\tMAPE:0.756\n",
      "depths: 17 R2: 0.634\t MSE:230.549\tRMSE:15.184\tMAE:10.072\tMAPE:0.787\n",
      "depths: 18 R2: 0.602\t MSE:250.716\tRMSE:15.834\tMAE:10.444\tMAPE:0.810\n",
      "depths: 19 R2: 0.580\t MSE:264.556\tRMSE:16.265\tMAE:10.813\tMAPE:0.823\n",
      "depths: 20 R2: 0.575\t MSE:267.896\tRMSE:16.368\tMAE:10.904\tMAPE:0.828\n"
     ]
    }
   ],
   "source": [
    "gradient_boosting(Xo_train,yo_train,Xo_test,yo_test,scaling='MinMax',save=True,filename=f'evaluacion_{estacion}.txt')"
   ]
  },
  {
   "cell_type": "code",
   "execution_count": 15,
   "id": "2783c792",
   "metadata": {},
   "outputs": [
    {
     "name": "stdout",
     "output_type": "stream",
     "text": [
      ">gradient_boosting_Zscore\n",
      "depths: 1 R2: 0.728\t MSE:171.311\tRMSE:13.089\tMAE:9.340\tMAPE:0.861\n",
      "depths: 2 R2: 0.756\t MSE:153.633\tRMSE:12.395\tMAE:8.855\tMAPE:0.807\n",
      "depths: 3 R2: 0.767\t MSE:146.798\tRMSE:12.116\tMAE:8.590\tMAPE:0.768\n",
      "depths: 4 R2: 0.779\t MSE:139.193\tRMSE:11.798\tMAE:8.405\tMAPE:0.743\n",
      "depths: 5 R2: 0.783\t MSE:136.579\tRMSE:11.687\tMAE:8.260\tMAPE:0.720\n",
      "depths: 6 R2: 0.785\t MSE:135.231\tRMSE:11.629\tMAE:8.200\tMAPE:0.701\n",
      "depths: 7 R2: 0.781\t MSE:137.906\tRMSE:11.743\tMAE:8.231\tMAPE:0.691\n",
      "depths: 8 R2: 0.784\t MSE:135.954\tRMSE:11.660\tMAE:8.133\tMAPE:0.676\n",
      "depths: 9 R2: 0.776\t MSE:141.206\tRMSE:11.883\tMAE:8.246\tMAPE:0.688\n",
      "depths: 10 R2: 0.768\t MSE:146.469\tRMSE:12.102\tMAE:8.364\tMAPE:0.686\n",
      "depths: 11 R2: 0.762\t MSE:149.730\tRMSE:12.236\tMAE:8.446\tMAPE:0.694\n",
      "depths: 12 R2: 0.753\t MSE:155.986\tRMSE:12.489\tMAE:8.629\tMAPE:0.706\n",
      "depths: 13 R2: 0.731\t MSE:169.683\tRMSE:13.026\tMAE:8.891\tMAPE:0.719\n",
      "depths: 14 R2: 0.726\t MSE:172.696\tRMSE:13.141\tMAE:9.043\tMAPE:0.744\n",
      "depths: 15 R2: 0.701\t MSE:188.266\tRMSE:13.721\tMAE:9.291\tMAPE:0.756\n",
      "depths: 16 R2: 0.667\t MSE:209.835\tRMSE:14.486\tMAE:9.700\tMAPE:0.754\n",
      "depths: 17 R2: 0.630\t MSE:233.113\tRMSE:15.268\tMAE:10.121\tMAPE:0.788\n",
      "depths: 18 R2: 0.605\t MSE:248.951\tRMSE:15.778\tMAE:10.390\tMAPE:0.800\n",
      "depths: 19 R2: 0.582\t MSE:263.578\tRMSE:16.235\tMAE:10.836\tMAPE:0.832\n",
      "depths: 20 R2: 0.575\t MSE:267.886\tRMSE:16.367\tMAE:10.937\tMAPE:0.827\n"
     ]
    }
   ],
   "source": [
    "gradient_boosting(Xo_train,yo_train,Xo_test,yo_test,scaling='Zscore',save=True,filename=f'evaluacion_{estacion}.txt')"
   ]
  }
 ],
 "metadata": {
  "kernelspec": {
   "display_name": "Python 3",
   "language": "python",
   "name": "python3"
  },
  "language_info": {
   "codemirror_mode": {
    "name": "ipython",
    "version": 3
   },
   "file_extension": ".py",
   "mimetype": "text/x-python",
   "name": "python",
   "nbconvert_exporter": "python",
   "pygments_lexer": "ipython3",
   "version": "3.8.8"
  }
 },
 "nbformat": 4,
 "nbformat_minor": 5
}
